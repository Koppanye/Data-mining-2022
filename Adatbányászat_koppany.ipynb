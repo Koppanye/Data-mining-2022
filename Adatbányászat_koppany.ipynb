{
 "cells": [
  {
   "cell_type": "markdown",
   "id": "0a0de2fb",
   "metadata": {},
   "source": [
    "# Importálás"
   ]
  },
  {
   "cell_type": "code",
   "execution_count": 1,
   "id": "9cd9aee6",
   "metadata": {},
   "outputs": [
    {
     "name": "stderr",
     "output_type": "stream",
     "text": [
      "C:\\Users\\User\\anaconda3\\lib\\site-packages\\xgboost\\compat.py:36: FutureWarning: pandas.Int64Index is deprecated and will be removed from pandas in a future version. Use pandas.Index with the appropriate dtype instead.\n",
      "  from pandas import MultiIndex, Int64Index\n"
     ]
    }
   ],
   "source": [
    "import pandas as pd\n",
    "import numpy as np\n",
    "import seaborn as sb\n",
    "import matplotlib.pyplot as plt\n",
    "# Nlp library\n",
    "import re\n",
    "import nltk\n",
    "from nltk.corpus import stopwords\n",
    "import nltk as nlp\n",
    "from sklearn.feature_extraction.text import CountVectorizer\n",
    "\n",
    "# sklearn Library\n",
    "from sklearn.model_selection import train_test_split\n",
    "from sklearn.svm import SVC\n",
    "from sklearn.model_selection import GridSearchCV\n",
    "from sklearn.metrics import r2_score\n",
    "from sklearn.metrics import confusion_matrix, classification_report, plot_confusion_matrix\n",
    "from sklearn.metrics import accuracy_score, f1_score, recall_score, precision_score\n",
    "from sklearn.ensemble import RandomForestClassifier\n",
    "from sklearn.model_selection import GridSearchCV\n",
    "from sklearn.linear_model import LogisticRegression\n",
    "from xgboost import XGBClassifier\n",
    "from sklearn.metrics import explained_variance_score\n",
    "\n",
    "#Tenserflow Library\n",
    "import tensorflow as tf\n",
    "from tensorflow.keras.models import Sequential\n",
    "from tensorflow.keras.layers import Dense, Activation, Dropout\n",
    "from keras.layers import LSTM\n",
    "from tensorflow.keras.layers import Embedding,  Bidirectional\n",
    "from tensorflow.keras.preprocessing.sequence import pad_sequences\n",
    "\n",
    "import warnings\n",
    "warnings.filterwarnings(\"ignore\")"
   ]
  },
  {
   "cell_type": "markdown",
   "id": "e02f5808",
   "metadata": {},
   "source": [
    "# 1. Adatvizualizáció"
   ]
  },
  {
   "cell_type": "code",
   "execution_count": 2,
   "id": "8c2b48c7",
   "metadata": {},
   "outputs": [],
   "source": [
    "jobs = pd.read_csv('fake_job_postings.csv')"
   ]
  },
  {
   "cell_type": "code",
   "execution_count": 3,
   "id": "7b744e2e",
   "metadata": {},
   "outputs": [
    {
     "data": {
      "text/html": [
       "<div>\n",
       "<style scoped>\n",
       "    .dataframe tbody tr th:only-of-type {\n",
       "        vertical-align: middle;\n",
       "    }\n",
       "\n",
       "    .dataframe tbody tr th {\n",
       "        vertical-align: top;\n",
       "    }\n",
       "\n",
       "    .dataframe thead th {\n",
       "        text-align: right;\n",
       "    }\n",
       "</style>\n",
       "<table border=\"1\" class=\"dataframe\">\n",
       "  <thead>\n",
       "    <tr style=\"text-align: right;\">\n",
       "      <th></th>\n",
       "      <th>job_id</th>\n",
       "      <th>title</th>\n",
       "      <th>location</th>\n",
       "      <th>department</th>\n",
       "      <th>salary_range</th>\n",
       "      <th>company_profile</th>\n",
       "      <th>description</th>\n",
       "      <th>requirements</th>\n",
       "      <th>benefits</th>\n",
       "      <th>telecommuting</th>\n",
       "      <th>has_company_logo</th>\n",
       "      <th>has_questions</th>\n",
       "      <th>employment_type</th>\n",
       "      <th>required_experience</th>\n",
       "      <th>required_education</th>\n",
       "      <th>industry</th>\n",
       "      <th>function</th>\n",
       "      <th>fraudulent</th>\n",
       "    </tr>\n",
       "  </thead>\n",
       "  <tbody>\n",
       "    <tr>\n",
       "      <th>0</th>\n",
       "      <td>1</td>\n",
       "      <td>Marketing Intern</td>\n",
       "      <td>US, NY, New York</td>\n",
       "      <td>Marketing</td>\n",
       "      <td>NaN</td>\n",
       "      <td>We're Food52, and we've created a groundbreaki...</td>\n",
       "      <td>Food52, a fast-growing, James Beard Award-winn...</td>\n",
       "      <td>Experience with content management systems a m...</td>\n",
       "      <td>NaN</td>\n",
       "      <td>0</td>\n",
       "      <td>1</td>\n",
       "      <td>0</td>\n",
       "      <td>Other</td>\n",
       "      <td>Internship</td>\n",
       "      <td>NaN</td>\n",
       "      <td>NaN</td>\n",
       "      <td>Marketing</td>\n",
       "      <td>0</td>\n",
       "    </tr>\n",
       "    <tr>\n",
       "      <th>1</th>\n",
       "      <td>2</td>\n",
       "      <td>Customer Service - Cloud Video Production</td>\n",
       "      <td>NZ, , Auckland</td>\n",
       "      <td>Success</td>\n",
       "      <td>NaN</td>\n",
       "      <td>90 Seconds, the worlds Cloud Video Production ...</td>\n",
       "      <td>Organised - Focused - Vibrant - Awesome!Do you...</td>\n",
       "      <td>What we expect from you:Your key responsibilit...</td>\n",
       "      <td>What you will get from usThrough being part of...</td>\n",
       "      <td>0</td>\n",
       "      <td>1</td>\n",
       "      <td>0</td>\n",
       "      <td>Full-time</td>\n",
       "      <td>Not Applicable</td>\n",
       "      <td>NaN</td>\n",
       "      <td>Marketing and Advertising</td>\n",
       "      <td>Customer Service</td>\n",
       "      <td>0</td>\n",
       "    </tr>\n",
       "    <tr>\n",
       "      <th>2</th>\n",
       "      <td>3</td>\n",
       "      <td>Commissioning Machinery Assistant (CMA)</td>\n",
       "      <td>US, IA, Wever</td>\n",
       "      <td>NaN</td>\n",
       "      <td>NaN</td>\n",
       "      <td>Valor Services provides Workforce Solutions th...</td>\n",
       "      <td>Our client, located in Houston, is actively se...</td>\n",
       "      <td>Implement pre-commissioning and commissioning ...</td>\n",
       "      <td>NaN</td>\n",
       "      <td>0</td>\n",
       "      <td>1</td>\n",
       "      <td>0</td>\n",
       "      <td>NaN</td>\n",
       "      <td>NaN</td>\n",
       "      <td>NaN</td>\n",
       "      <td>NaN</td>\n",
       "      <td>NaN</td>\n",
       "      <td>0</td>\n",
       "    </tr>\n",
       "    <tr>\n",
       "      <th>3</th>\n",
       "      <td>4</td>\n",
       "      <td>Account Executive - Washington DC</td>\n",
       "      <td>US, DC, Washington</td>\n",
       "      <td>Sales</td>\n",
       "      <td>NaN</td>\n",
       "      <td>Our passion for improving quality of life thro...</td>\n",
       "      <td>THE COMPANY: ESRI – Environmental Systems Rese...</td>\n",
       "      <td>EDUCATION: Bachelor’s or Master’s in GIS, busi...</td>\n",
       "      <td>Our culture is anything but corporate—we have ...</td>\n",
       "      <td>0</td>\n",
       "      <td>1</td>\n",
       "      <td>0</td>\n",
       "      <td>Full-time</td>\n",
       "      <td>Mid-Senior level</td>\n",
       "      <td>Bachelor's Degree</td>\n",
       "      <td>Computer Software</td>\n",
       "      <td>Sales</td>\n",
       "      <td>0</td>\n",
       "    </tr>\n",
       "    <tr>\n",
       "      <th>4</th>\n",
       "      <td>5</td>\n",
       "      <td>Bill Review Manager</td>\n",
       "      <td>US, FL, Fort Worth</td>\n",
       "      <td>NaN</td>\n",
       "      <td>NaN</td>\n",
       "      <td>SpotSource Solutions LLC is a Global Human Cap...</td>\n",
       "      <td>JOB TITLE: Itemization Review ManagerLOCATION:...</td>\n",
       "      <td>QUALIFICATIONS:RN license in the State of Texa...</td>\n",
       "      <td>Full Benefits Offered</td>\n",
       "      <td>0</td>\n",
       "      <td>1</td>\n",
       "      <td>1</td>\n",
       "      <td>Full-time</td>\n",
       "      <td>Mid-Senior level</td>\n",
       "      <td>Bachelor's Degree</td>\n",
       "      <td>Hospital &amp; Health Care</td>\n",
       "      <td>Health Care Provider</td>\n",
       "      <td>0</td>\n",
       "    </tr>\n",
       "  </tbody>\n",
       "</table>\n",
       "</div>"
      ],
      "text/plain": [
       "   job_id                                      title            location  \\\n",
       "0       1                           Marketing Intern    US, NY, New York   \n",
       "1       2  Customer Service - Cloud Video Production      NZ, , Auckland   \n",
       "2       3    Commissioning Machinery Assistant (CMA)       US, IA, Wever   \n",
       "3       4          Account Executive - Washington DC  US, DC, Washington   \n",
       "4       5                        Bill Review Manager  US, FL, Fort Worth   \n",
       "\n",
       "  department salary_range                                    company_profile  \\\n",
       "0  Marketing          NaN  We're Food52, and we've created a groundbreaki...   \n",
       "1    Success          NaN  90 Seconds, the worlds Cloud Video Production ...   \n",
       "2        NaN          NaN  Valor Services provides Workforce Solutions th...   \n",
       "3      Sales          NaN  Our passion for improving quality of life thro...   \n",
       "4        NaN          NaN  SpotSource Solutions LLC is a Global Human Cap...   \n",
       "\n",
       "                                         description  \\\n",
       "0  Food52, a fast-growing, James Beard Award-winn...   \n",
       "1  Organised - Focused - Vibrant - Awesome!Do you...   \n",
       "2  Our client, located in Houston, is actively se...   \n",
       "3  THE COMPANY: ESRI – Environmental Systems Rese...   \n",
       "4  JOB TITLE: Itemization Review ManagerLOCATION:...   \n",
       "\n",
       "                                        requirements  \\\n",
       "0  Experience with content management systems a m...   \n",
       "1  What we expect from you:Your key responsibilit...   \n",
       "2  Implement pre-commissioning and commissioning ...   \n",
       "3  EDUCATION: Bachelor’s or Master’s in GIS, busi...   \n",
       "4  QUALIFICATIONS:RN license in the State of Texa...   \n",
       "\n",
       "                                            benefits  telecommuting  \\\n",
       "0                                                NaN              0   \n",
       "1  What you will get from usThrough being part of...              0   \n",
       "2                                                NaN              0   \n",
       "3  Our culture is anything but corporate—we have ...              0   \n",
       "4                              Full Benefits Offered              0   \n",
       "\n",
       "   has_company_logo  has_questions employment_type required_experience  \\\n",
       "0                 1              0           Other          Internship   \n",
       "1                 1              0       Full-time      Not Applicable   \n",
       "2                 1              0             NaN                 NaN   \n",
       "3                 1              0       Full-time    Mid-Senior level   \n",
       "4                 1              1       Full-time    Mid-Senior level   \n",
       "\n",
       "  required_education                   industry              function  \\\n",
       "0                NaN                        NaN             Marketing   \n",
       "1                NaN  Marketing and Advertising      Customer Service   \n",
       "2                NaN                        NaN                   NaN   \n",
       "3  Bachelor's Degree          Computer Software                 Sales   \n",
       "4  Bachelor's Degree     Hospital & Health Care  Health Care Provider   \n",
       "\n",
       "   fraudulent  \n",
       "0           0  \n",
       "1           0  \n",
       "2           0  \n",
       "3           0  \n",
       "4           0  "
      ]
     },
     "execution_count": 3,
     "metadata": {},
     "output_type": "execute_result"
    }
   ],
   "source": [
    "jobs.head()"
   ]
  },
  {
   "cell_type": "code",
   "execution_count": 4,
   "id": "326a29f3",
   "metadata": {},
   "outputs": [
    {
     "name": "stdout",
     "output_type": "stream",
     "text": [
      "0    17014\n",
      "1      866\n",
      "Name: fraudulent, dtype: int64\n"
     ]
    },
    {
     "data": {
      "text/plain": [
       "<AxesSubplot:ylabel='fraudulent'>"
      ]
     },
     "execution_count": 4,
     "metadata": {},
     "output_type": "execute_result"
    },
    {
     "data": {
      "image/png": "[encoded data removed]",
      "text/plain": [
       "<Figure size 432x288 with 1 Axes>"
      ]
     },
     "metadata": {},
     "output_type": "display_data"
    }
   ],
   "source": [
    "print(jobs.fraudulent.value_counts())\n",
    "jobs.fraudulent.value_counts().plot(kind='pie')"
   ]
  },
  {
   "cell_type": "code",
   "execution_count": 5,
   "id": "0cef93ed",
   "metadata": {},
   "outputs": [
    {
     "name": "stdout",
     "output_type": "stream",
     "text": [
      "0.9515659955257271\n",
      "17014\n",
      "866\n"
     ]
    }
   ],
   "source": [
    "print(jobs.fraudulent.value_counts()[0]/len(jobs))\n",
    "print(jobs.fraudulent.value_counts()[0])\n",
    "print(jobs.fraudulent.value_counts()[1])"
   ]
  },
  {
   "cell_type": "code",
   "execution_count": 6,
   "id": "d3fa7d03",
   "metadata": {},
   "outputs": [],
   "source": [
    "def isNaN(string):\n",
    "    return string != string"
   ]
  },
  {
   "cell_type": "code",
   "execution_count": 7,
   "id": "3f1072e0",
   "metadata": {},
   "outputs": [],
   "source": [
    "y0=[]\n",
    "y1=[]\n",
    "for c in jobs.columns:\n",
    "    y0.append(len(jobs[c][isNaN(jobs[c])==1][jobs.fraudulent==0])/jobs.fraudulent.value_counts()[0])\n",
    "    y1.append(len(jobs[c][isNaN(jobs[c])==1][jobs.fraudulent==1])/jobs.fraudulent.value_counts()[1])"
   ]
  },
  {
   "cell_type": "code",
   "execution_count": 8,
   "id": "5ac3efa1",
   "metadata": {},
   "outputs": [
    {
     "data": {
      "text/plain": [
       "Text(0.5, 1.0, 'NaN ratio')"
      ]
     },
     "execution_count": 8,
     "metadata": {},
     "output_type": "execute_result"
    },
    {
     "data": {
      "image/png": "[encoded data removed]",
      "text/plain": [
       "<Figure size 432x288 with 1 Axes>"
      ]
     },
     "metadata": {
      "needs_background": "light"
     },
     "output_type": "display_data"
    }
   ],
   "source": [
    "import matplotlib.pyplot as plt\n",
    "x=jobs.columns\n",
    "plt.plot(x,100*np.array(y1),'ro',x,100*np.array(y0),'bo')\n",
    "plt.legend([\"fake\", \"true\"])\n",
    "plt.ylabel('%')\n",
    "plt.xlabel('Columns')\n",
    "plt.xticks(rotation=80)\n",
    "plt.title(\"NaN ratio\")"
   ]
  },
  {
   "cell_type": "code",
   "execution_count": 9,
   "id": "03b58a07",
   "metadata": {},
   "outputs": [],
   "source": [
    "jobs.title = jobs.title.str.strip()\n",
    "title = jobs.title.value_counts()[:10]"
   ]
  },
  {
   "cell_type": "code",
   "execution_count": 11,
   "id": "efc709ec",
   "metadata": {
    "scrolled": false
   },
   "outputs": [
    {
     "data": {
      "image/png": "[encoded data removed]",
      "text/plain": [
       "<Figure size 720x360 with 1 Axes>"
      ]
     },
     "metadata": {
      "needs_background": "light"
     },
     "output_type": "display_data"
    }
   ],
   "source": [
    "plt.figure(figsize = (10,5))\n",
    "sb.barplot(x = title.index, y = title )\n",
    "plt.title(\"Most Common Title of Posts\", fontdict = {\"fontsize\" : 14})\n",
    "plt.ylabel(\"Count\", fontdict = {\"fontsize\" : 14})\n",
    "plt.xticks(rotation=80);"
   ]
  },
  {
   "cell_type": "code",
   "execution_count": 12,
   "id": "411cb777",
   "metadata": {},
   "outputs": [],
   "source": [
    "location = jobs.location.value_counts()[:10]"
   ]
  },
  {
   "cell_type": "code",
   "execution_count": 13,
   "id": "041afc09",
   "metadata": {},
   "outputs": [
    {
     "data": {
      "image/png": "[encoded data removed]",
      "text/plain": [
       "<Figure size 720x360 with 1 Axes>"
      ]
     },
     "metadata": {
      "needs_background": "light"
     },
     "output_type": "display_data"
    }
   ],
   "source": [
    "plt.figure(figsize = (10,5))\n",
    "sb.barplot(x = location.index, y = location )\n",
    "plt.title(\"Most Common location of Posts\", fontdict = {\"fontsize\" : 14})\n",
    "plt.ylabel(\"Count\", fontdict = {\"fontsize\" : 14})\n",
    "plt.xticks(rotation=80);"
   ]
  },
  {
   "cell_type": "code",
   "execution_count": 14,
   "id": "a4b5c5dd",
   "metadata": {},
   "outputs": [],
   "source": [
    "loc=jobs.location.value_counts(dropna=False)\n",
    "loc1=jobs.location[jobs.fraudulent==1].value_counts(dropna=False)\n",
    "ratio=loc1.divide(loc, fill_value=0)\n",
    "y=[]\n",
    "for r in ratio.values:\n",
    "    y.append(len(ratio[ratio==r]))"
   ]
  },
  {
   "cell_type": "code",
   "execution_count": 15,
   "id": "2f8eef05",
   "metadata": {},
   "outputs": [
    {
     "data": {
      "text/plain": [
       "Text(0.5, 1.0, 'Number of location with the fake probability')"
      ]
     },
     "execution_count": 15,
     "metadata": {},
     "output_type": "execute_result"
    },
    {
     "data": {
      "image/png": "[encoded data removed]",
      "text/plain": [
       "<Figure size 432x288 with 1 Axes>"
      ]
     },
     "metadata": {
      "needs_background": "light"
     },
     "output_type": "display_data"
    }
   ],
   "source": [
    "plt.plot(ratio.values,y,'ro')\n",
    "plt.ylabel('Number of location')\n",
    "plt.xlabel('Fake ratio')\n",
    "plt.title(\"Number of location with the fake probability\")"
   ]
  },
  {
   "cell_type": "markdown",
   "id": "8f7ae4be",
   "metadata": {},
   "source": [
    "# 2. Csak a táblázat"
   ]
  },
  {
   "cell_type": "markdown",
   "id": "637d3bac",
   "metadata": {},
   "source": [
    "## 2.1. Naive Bayes"
   ]
  },
  {
   "cell_type": "code",
   "execution_count": 16,
   "id": "67f40ab3",
   "metadata": {},
   "outputs": [],
   "source": [
    "is_fraud = jobs['fraudulent'] == 1\n",
    "df_try = jobs[is_fraud]\n",
    "jobs_over=jobs\n",
    "jobs_over=jobs_over.append([df_try]*10,ignore_index=True)"
   ]
  },
  {
   "cell_type": "code",
   "execution_count": 17,
   "id": "97eb3d72",
   "metadata": {},
   "outputs": [
    {
     "data": {
      "text/plain": [
       "<AxesSubplot:ylabel='fraudulent'>"
      ]
     },
     "execution_count": 17,
     "metadata": {},
     "output_type": "execute_result"
    },
    {
     "data": {
      "image/png": "[encoded data removed]",
      "text/plain": [
       "<Figure size 432x288 with 1 Axes>"
      ]
     },
     "metadata": {},
     "output_type": "display_data"
    }
   ],
   "source": [
    "jobs_over.fraudulent.value_counts().plot(kind='pie')"
   ]
  },
  {
   "cell_type": "code",
   "execution_count": 18,
   "id": "083b0543",
   "metadata": {},
   "outputs": [
    {
     "name": "stdout",
     "output_type": "stream",
     "text": [
      "[5.811e+03 2.535e+03 7.580e+02 8.740e+02 0.000e+00 1.000e+00 0.000e+00\n",
      " 2.000e+00 4.000e+00 1.300e+01 1.310e+02 2.200e+01]\n"
     ]
    }
   ],
   "source": [
    "from sklearn import preprocessing\n",
    "jobs_last = jobs_over.drop(columns = ['job_id','company_profile', 'description', 'benefits', 'requirements','fraudulent'])\n",
    "jobs_last.head()\n",
    "X=np.zeros((len(jobs_last),len(jobs_last.columns)))\n",
    "for j in range(len(jobs_last.columns)):\n",
    "    le = preprocessing.LabelEncoder()\n",
    "    # Converting string labels into numbers.\n",
    "    Xoszlop=le.fit_transform(jobs_last[jobs_last.columns[j]])\n",
    "    X[:,j]=Xoszlop\n",
    "print(X[0])"
   ]
  },
  {
   "cell_type": "code",
   "execution_count": 19,
   "id": "6f482d63",
   "metadata": {},
   "outputs": [],
   "source": [
    "y = jobs_over.fraudulent.values\n",
    "y = y.reshape(-1,1)"
   ]
  },
  {
   "cell_type": "code",
   "execution_count": 20,
   "id": "c39f60fd",
   "metadata": {},
   "outputs": [],
   "source": [
    "X_train, X_test, y_train, y_test = train_test_split(X, y, test_size= 0.1, random_state= 0)"
   ]
  },
  {
   "cell_type": "code",
   "execution_count": 21,
   "id": "a475b7e9",
   "metadata": {
    "scrolled": true
   },
   "outputs": [],
   "source": [
    "from sklearn.naive_bayes import CategoricalNB\n",
    "clf = CategoricalNB(class_prior=[jobs_over.fraudulent.value_counts()[0],jobs_over.fraudulent.value_counts()[1]])\n",
    "clf.fit(X_train, y_train)\n",
    "y_pred=clf.predict(X_test)"
   ]
  },
  {
   "cell_type": "code",
   "execution_count": 22,
   "id": "c6b1c1fa",
   "metadata": {},
   "outputs": [
    {
     "name": "stdout",
     "output_type": "stream",
     "text": [
      "Accuracy: 0.9419743782969103\n"
     ]
    }
   ],
   "source": [
    "from sklearn import metrics\n",
    "print(\"Accuracy:\",metrics.accuracy_score(y_test, y_pred))"
   ]
  },
  {
   "cell_type": "code",
   "execution_count": 23,
   "id": "95839a95",
   "metadata": {},
   "outputs": [
    {
     "data": {
      "text/plain": [
       "array([[1563,   20],\n",
       "       [ 134,  937]], dtype=int64)"
      ]
     },
     "execution_count": 23,
     "metadata": {},
     "output_type": "execute_result"
    }
   ],
   "source": [
    "from sklearn.metrics import confusion_matrix\n",
    "confusion_matrix(y_pred,y_test)"
   ]
  },
  {
   "cell_type": "markdown",
   "id": "c3437f8c",
   "metadata": {},
   "source": [
    "## 2.2. Adat átalakítása numerikus értékekké"
   ]
  },
  {
   "cell_type": "code",
   "execution_count": 24,
   "id": "21dba535",
   "metadata": {},
   "outputs": [
    {
     "data": {
      "text/html": [
       "<div>\n",
       "<style scoped>\n",
       "    .dataframe tbody tr th:only-of-type {\n",
       "        vertical-align: middle;\n",
       "    }\n",
       "\n",
       "    .dataframe tbody tr th {\n",
       "        vertical-align: top;\n",
       "    }\n",
       "\n",
       "    .dataframe thead th {\n",
       "        text-align: right;\n",
       "    }\n",
       "</style>\n",
       "<table border=\"1\" class=\"dataframe\">\n",
       "  <thead>\n",
       "    <tr style=\"text-align: right;\">\n",
       "      <th></th>\n",
       "      <th>title</th>\n",
       "      <th>location</th>\n",
       "      <th>telecommuting</th>\n",
       "      <th>has_company_logo</th>\n",
       "      <th>has_questions</th>\n",
       "      <th>employment_type</th>\n",
       "      <th>required_experience</th>\n",
       "      <th>required_education</th>\n",
       "      <th>industry</th>\n",
       "      <th>function</th>\n",
       "      <th>fraudulent</th>\n",
       "    </tr>\n",
       "  </thead>\n",
       "  <tbody>\n",
       "    <tr>\n",
       "      <th>0</th>\n",
       "      <td>Marketing Intern</td>\n",
       "      <td>US, NY, New York</td>\n",
       "      <td>0</td>\n",
       "      <td>1</td>\n",
       "      <td>0</td>\n",
       "      <td>Other</td>\n",
       "      <td>Internship</td>\n",
       "      <td>NaN</td>\n",
       "      <td>NaN</td>\n",
       "      <td>Marketing</td>\n",
       "      <td>0</td>\n",
       "    </tr>\n",
       "    <tr>\n",
       "      <th>1</th>\n",
       "      <td>Customer Service - Cloud Video Production</td>\n",
       "      <td>NZ, , Auckland</td>\n",
       "      <td>0</td>\n",
       "      <td>1</td>\n",
       "      <td>0</td>\n",
       "      <td>Full-time</td>\n",
       "      <td>Not Applicable</td>\n",
       "      <td>NaN</td>\n",
       "      <td>Marketing and Advertising</td>\n",
       "      <td>Customer Service</td>\n",
       "      <td>0</td>\n",
       "    </tr>\n",
       "    <tr>\n",
       "      <th>2</th>\n",
       "      <td>Commissioning Machinery Assistant (CMA)</td>\n",
       "      <td>US, IA, Wever</td>\n",
       "      <td>0</td>\n",
       "      <td>1</td>\n",
       "      <td>0</td>\n",
       "      <td>NaN</td>\n",
       "      <td>NaN</td>\n",
       "      <td>NaN</td>\n",
       "      <td>NaN</td>\n",
       "      <td>NaN</td>\n",
       "      <td>0</td>\n",
       "    </tr>\n",
       "    <tr>\n",
       "      <th>3</th>\n",
       "      <td>Account Executive - Washington DC</td>\n",
       "      <td>US, DC, Washington</td>\n",
       "      <td>0</td>\n",
       "      <td>1</td>\n",
       "      <td>0</td>\n",
       "      <td>Full-time</td>\n",
       "      <td>Mid-Senior level</td>\n",
       "      <td>Bachelor's Degree</td>\n",
       "      <td>Computer Software</td>\n",
       "      <td>Sales</td>\n",
       "      <td>0</td>\n",
       "    </tr>\n",
       "    <tr>\n",
       "      <th>4</th>\n",
       "      <td>Bill Review Manager</td>\n",
       "      <td>US, FL, Fort Worth</td>\n",
       "      <td>0</td>\n",
       "      <td>1</td>\n",
       "      <td>1</td>\n",
       "      <td>Full-time</td>\n",
       "      <td>Mid-Senior level</td>\n",
       "      <td>Bachelor's Degree</td>\n",
       "      <td>Hospital &amp; Health Care</td>\n",
       "      <td>Health Care Provider</td>\n",
       "      <td>0</td>\n",
       "    </tr>\n",
       "  </tbody>\n",
       "</table>\n",
       "</div>"
      ],
      "text/plain": [
       "                                       title            location  \\\n",
       "0                           Marketing Intern    US, NY, New York   \n",
       "1  Customer Service - Cloud Video Production      NZ, , Auckland   \n",
       "2    Commissioning Machinery Assistant (CMA)       US, IA, Wever   \n",
       "3          Account Executive - Washington DC  US, DC, Washington   \n",
       "4                        Bill Review Manager  US, FL, Fort Worth   \n",
       "\n",
       "   telecommuting  has_company_logo  has_questions employment_type  \\\n",
       "0              0                 1              0           Other   \n",
       "1              0                 1              0       Full-time   \n",
       "2              0                 1              0             NaN   \n",
       "3              0                 1              0       Full-time   \n",
       "4              0                 1              1       Full-time   \n",
       "\n",
       "  required_experience required_education                   industry  \\\n",
       "0          Internship                NaN                        NaN   \n",
       "1      Not Applicable                NaN  Marketing and Advertising   \n",
       "2                 NaN                NaN                        NaN   \n",
       "3    Mid-Senior level  Bachelor's Degree          Computer Software   \n",
       "4    Mid-Senior level  Bachelor's Degree     Hospital & Health Care   \n",
       "\n",
       "               function  fraudulent  \n",
       "0             Marketing           0  \n",
       "1      Customer Service           0  \n",
       "2                   NaN           0  \n",
       "3                 Sales           0  \n",
       "4  Health Care Provider           0  "
      ]
     },
     "execution_count": 24,
     "metadata": {},
     "output_type": "execute_result"
    }
   ],
   "source": [
    "jobs_last = jobs_over.drop(columns = ['job_id','department',\n",
    "                             'salary_range', 'company_profile','description','requirements','benefits'])\n",
    "jobs_last.head()"
   ]
  },
  {
   "cell_type": "code",
   "execution_count": 25,
   "id": "58a6e953",
   "metadata": {},
   "outputs": [],
   "source": [
    "jobs_train, jobs_test= train_test_split(jobs_last, test_size=0.1, random_state=101)"
   ]
  },
  {
   "cell_type": "code",
   "execution_count": 26,
   "id": "0448fea2",
   "metadata": {},
   "outputs": [],
   "source": [
    "jobs_train=jobs_train\n",
    "y_train=jobs_train[\"fraudulent\"].array\n",
    "y_test=jobs_test[\"fraudulent\"].array"
   ]
  },
  {
   "cell_type": "code",
   "execution_count": 27,
   "id": "71bf66bd",
   "metadata": {},
   "outputs": [],
   "source": [
    "jobs_train = jobs_train.drop(columns = ['fraudulent'])\n",
    "jobs_test = jobs_test.drop(columns = ['fraudulent'])"
   ]
  },
  {
   "cell_type": "code",
   "execution_count": 28,
   "id": "4c79bf05",
   "metadata": {},
   "outputs": [],
   "source": [
    "#from sklearn.preprocessing import OneHotEncoder\n",
    "# Minden oszlopot elkódolok a onehot kódolással\n",
    "#onehot1=dict()\n",
    "#onehot2=dict()\n",
    "#for c in jobs_train.columns:\n",
    "#    X1=jobs_train[c].array.reshape(-1,1)\n",
    "#    X2=jobs_test[c].array.reshape(-1,1)\n",
    "#    enc = OneHotEncoder(handle_unknown='ignore')\n",
    "#    enc.fit(X1)\n",
    "#    onehot1[c]=enc.transform(X1).toarray()\n",
    "#    onehot2[c]=enc.transform(X2).toarray()"
   ]
  },
  {
   "cell_type": "code",
   "execution_count": 29,
   "id": "6fafefce",
   "metadata": {},
   "outputs": [],
   "source": [
    "from sklearn.preprocessing import OneHotEncoder\n",
    "from scipy.sparse import csr_matrix\n",
    "# Minden oszlopot elkódolok a onehot kódolással. Azéer ilyen fura, mert nem numpy mátrixként kell tárolni,\n",
    "# hanem ritka mátrixként.\n",
    "s=0\n",
    "row1=[]\n",
    "col1=[]\n",
    "data1=[]\n",
    "row2=[]\n",
    "col2=[]\n",
    "data2=[]\n",
    "k=0\n",
    "for c in jobs_train.columns:\n",
    "    X1=jobs_train[c].array.reshape(-1,1)\n",
    "    X2=jobs_test[c].array.reshape(-1,1)\n",
    "    enc = OneHotEncoder(handle_unknown='ignore')\n",
    "    enc.fit(X1)\n",
    "    t1=enc.transform(X1)\n",
    "    t2=enc.transform(X2)\n",
    "    for i in range(t1.shape[0]):\n",
    "        z1=t1.getrow(i).indices\n",
    "        data1.append(1)\n",
    "        row1.append(i)\n",
    "        col1.append(s+z1[0])\n",
    "    for i in range(t2.shape[0]):\n",
    "        z2=t2.getrow(i).indices\n",
    "        if len(z2)==0:\n",
    "            pass\n",
    "        else:\n",
    "            data2.append(1)\n",
    "            row2.append(i)\n",
    "            col2.append(s+z2[0])\n",
    "    s=s+t1.shape[1]\n",
    "\n",
    "X_train=csr_matrix((data1, (row1, col1)), shape=(len(jobs_train), s))\n",
    "X_test=csr_matrix((data2, (row2, col2)), shape=(len(jobs_test), s))"
   ]
  },
  {
   "cell_type": "code",
   "execution_count": 30,
   "id": "a0e717b1",
   "metadata": {},
   "outputs": [],
   "source": [
    "#Dimenziócsökkentés SVD-vel\n",
    "from sklearn.decomposition import TruncatedSVD\n",
    "svd = TruncatedSVD(n_components=100)\n",
    "svd.fit(X_train)\n",
    "X_train=svd.transform(X_train)\n",
    "X_test=svd.transform(X_test)"
   ]
  },
  {
   "cell_type": "markdown",
   "id": "e983ece2",
   "metadata": {},
   "source": [
    "## 2.3. Support Vector Machine"
   ]
  },
  {
   "cell_type": "code",
   "execution_count": 32,
   "id": "d60ab7b1",
   "metadata": {},
   "outputs": [],
   "source": [
    "from sklearn import svm\n",
    "clf = svm.SVC(kernel='poly',max_iter=1000)\n",
    "clf = clf.fit(X_train, y_train)"
   ]
  },
  {
   "cell_type": "code",
   "execution_count": 33,
   "id": "5a11d715",
   "metadata": {},
   "outputs": [],
   "source": [
    "y_pred = clf.predict(X_test)"
   ]
  },
  {
   "cell_type": "code",
   "execution_count": 34,
   "id": "a04157bf",
   "metadata": {},
   "outputs": [
    {
     "data": {
      "text/plain": [
       "array([[1309,  270],\n",
       "       [ 411,  664]], dtype=int64)"
      ]
     },
     "execution_count": 34,
     "metadata": {},
     "output_type": "execute_result"
    }
   ],
   "source": [
    "from sklearn.metrics import confusion_matrix\n",
    "confusion_matrix(y_pred,y_test)"
   ]
  },
  {
   "cell_type": "code",
   "execution_count": 35,
   "id": "2aaa1673",
   "metadata": {},
   "outputs": [
    {
     "name": "stdout",
     "output_type": "stream",
     "text": [
      "Accuracy: 0.7434061793519217\n"
     ]
    }
   ],
   "source": [
    "from sklearn import metrics\n",
    "print(\"Accuracy:\",metrics.accuracy_score(y_test, y_pred))"
   ]
  },
  {
   "cell_type": "code",
   "execution_count": 83,
   "id": "b2dcc81e",
   "metadata": {},
   "outputs": [],
   "source": [
    "clf2 = svm.SVC(kernel='linear',max_iter=1000)\n",
    "clf2 = clf2.fit(X_train, y_train)\n",
    "y_pred_2 = clf2.predict(X_test)"
   ]
  },
  {
   "cell_type": "code",
   "execution_count": 85,
   "id": "68a5e8d7",
   "metadata": {},
   "outputs": [
    {
     "data": {
      "text/plain": [
       "array([[1472,  780],\n",
       "       [ 248,  154]], dtype=int64)"
      ]
     },
     "execution_count": 85,
     "metadata": {},
     "output_type": "execute_result"
    }
   ],
   "source": [
    "confusion_matrix(y_pred_2,y_test)"
   ]
  },
  {
   "cell_type": "code",
   "execution_count": 86,
   "id": "ea0dba6a",
   "metadata": {},
   "outputs": [
    {
     "name": "stdout",
     "output_type": "stream",
     "text": [
      "Accuracy: 0.6126601356443104\n"
     ]
    }
   ],
   "source": [
    "print(\"Accuracy:\",metrics.accuracy_score(y_test, y_pred_2))"
   ]
  },
  {
   "cell_type": "code",
   "execution_count": 87,
   "id": "a250b193",
   "metadata": {},
   "outputs": [],
   "source": [
    "clf3 = svm.SVC(kernel='rbf',max_iter=1000)\n",
    "clf3 = clf3.fit(X_train, y_train)\n",
    "y_pred_3 = clf3.predict(X_test)"
   ]
  },
  {
   "cell_type": "code",
   "execution_count": 88,
   "id": "64e1ace9",
   "metadata": {},
   "outputs": [
    {
     "data": {
      "text/plain": [
       "array([[1297,  432],\n",
       "       [ 423,  502]], dtype=int64)"
      ]
     },
     "execution_count": 88,
     "metadata": {},
     "output_type": "execute_result"
    }
   ],
   "source": [
    "confusion_matrix(y_pred_3,y_test)"
   ]
  },
  {
   "cell_type": "code",
   "execution_count": 89,
   "id": "adfa5423",
   "metadata": {},
   "outputs": [
    {
     "name": "stdout",
     "output_type": "stream",
     "text": [
      "Accuracy: 0.6778447626224566\n"
     ]
    }
   ],
   "source": [
    "print(\"Accuracy:\",metrics.accuracy_score(y_test, y_pred_3))"
   ]
  },
  {
   "cell_type": "code",
   "execution_count": 91,
   "id": "01e41850",
   "metadata": {},
   "outputs": [],
   "source": [
    "clf4 = svm.SVC(kernel='sigmoid',max_iter=1000)\n",
    "clf4 = clf4.fit(X_train, y_train)\n",
    "y_pred_4 = clf4.predict(X_test)"
   ]
  },
  {
   "cell_type": "code",
   "execution_count": 92,
   "id": "f495993d",
   "metadata": {},
   "outputs": [
    {
     "data": {
      "text/plain": [
       "array([[823, 328],\n",
       "       [897, 606]], dtype=int64)"
      ]
     },
     "execution_count": 92,
     "metadata": {},
     "output_type": "execute_result"
    }
   ],
   "source": [
    "confusion_matrix(y_pred_4,y_test)"
   ]
  },
  {
   "cell_type": "code",
   "execution_count": 93,
   "id": "b1dfb49a",
   "metadata": {},
   "outputs": [
    {
     "name": "stdout",
     "output_type": "stream",
     "text": [
      "Accuracy: 0.5384325546345139\n"
     ]
    }
   ],
   "source": [
    "print(\"Accuracy:\",metrics.accuracy_score(y_test, y_pred_4))"
   ]
  },
  {
   "cell_type": "markdown",
   "id": "2525f063",
   "metadata": {},
   "source": [
    "## 2.4. Decision Tree with max depth 10"
   ]
  },
  {
   "cell_type": "code",
   "execution_count": 36,
   "id": "730d7318",
   "metadata": {},
   "outputs": [],
   "source": [
    "from sklearn import tree\n",
    "clf = tree.DecisionTreeClassifier(criterion=\"gini\", max_depth=10)\n",
    "clf = clf.fit(X_train, y_train)"
   ]
  },
  {
   "cell_type": "code",
   "execution_count": 37,
   "id": "4a3ab365",
   "metadata": {},
   "outputs": [],
   "source": [
    "from sklearn import tree\n",
    "clf2 = tree.DecisionTreeClassifier(criterion=\"entropy\", max_depth=10)\n",
    "clf2 = clf2.fit(X_train, y_train)"
   ]
  },
  {
   "cell_type": "code",
   "execution_count": 42,
   "id": "7f7ea817",
   "metadata": {},
   "outputs": [],
   "source": [
    "from sklearn import tree\n",
    "clf3 = tree.DecisionTreeClassifier(criterion=\"log_loss\", max_depth=10)\n",
    "clf3 = clf3.fit(X_train, y_train)"
   ]
  },
  {
   "cell_type": "code",
   "execution_count": 319,
   "id": "1d271828",
   "metadata": {},
   "outputs": [],
   "source": [
    "#tree.plot_tree(clf)"
   ]
  },
  {
   "cell_type": "code",
   "execution_count": 43,
   "id": "c635243b",
   "metadata": {},
   "outputs": [],
   "source": [
    "y_pred = clf.predict(X_test)\n",
    "y_pred_2 = clf2.predict(X_test)\n",
    "y_pred_3 = clf3.predict(X_test)"
   ]
  },
  {
   "cell_type": "code",
   "execution_count": 45,
   "id": "f92e2aed",
   "metadata": {},
   "outputs": [
    {
     "data": {
      "text/plain": [
       "array([[1667,   59],\n",
       "       [  53,  875]], dtype=int64)"
      ]
     },
     "execution_count": 45,
     "metadata": {},
     "output_type": "execute_result"
    }
   ],
   "source": [
    "from sklearn.metrics import confusion_matrix\n",
    "confusion_matrix(y_pred,y_test)"
   ]
  },
  {
   "cell_type": "code",
   "execution_count": 48,
   "id": "1f5e3881",
   "metadata": {},
   "outputs": [
    {
     "name": "stdout",
     "output_type": "stream",
     "text": [
      "Accuracy: 0.9577995478522984\n"
     ]
    }
   ],
   "source": [
    "from sklearn import metrics\n",
    "print(\"Accuracy:\",metrics.accuracy_score(y_test, y_pred))"
   ]
  },
  {
   "cell_type": "code",
   "execution_count": 46,
   "id": "8be86026",
   "metadata": {},
   "outputs": [
    {
     "data": {
      "text/plain": [
       "array([[1674,  100],\n",
       "       [  46,  834]], dtype=int64)"
      ]
     },
     "execution_count": 46,
     "metadata": {},
     "output_type": "execute_result"
    }
   ],
   "source": [
    "confusion_matrix(y_pred_2, y_test)"
   ]
  },
  {
   "cell_type": "code",
   "execution_count": 49,
   "id": "eff55a02",
   "metadata": {},
   "outputs": [
    {
     "name": "stdout",
     "output_type": "stream",
     "text": [
      "Accuracy: 0.9449886963074604\n"
     ]
    }
   ],
   "source": [
    "from sklearn import metrics\n",
    "print(\"Accuracy:\",metrics.accuracy_score(y_test, y_pred_2))"
   ]
  },
  {
   "cell_type": "code",
   "execution_count": 47,
   "id": "f75666c7",
   "metadata": {},
   "outputs": [
    {
     "data": {
      "text/plain": [
       "array([[1671,  100],\n",
       "       [  49,  834]], dtype=int64)"
      ]
     },
     "execution_count": 47,
     "metadata": {},
     "output_type": "execute_result"
    }
   ],
   "source": [
    "confusion_matrix(y_pred_3, y_test)"
   ]
  },
  {
   "cell_type": "code",
   "execution_count": 50,
   "id": "cf0f621b",
   "metadata": {},
   "outputs": [
    {
     "name": "stdout",
     "output_type": "stream",
     "text": [
      "Accuracy: 0.9438583270535041\n"
     ]
    }
   ],
   "source": [
    "from sklearn import metrics\n",
    "print(\"Accuracy:\",metrics.accuracy_score(y_test, y_pred_3))"
   ]
  },
  {
   "cell_type": "markdown",
   "id": "2d423b4d",
   "metadata": {},
   "source": [
    "# Decision tree with max depth 15"
   ]
  },
  {
   "cell_type": "code",
   "execution_count": 55,
   "id": "26759e09",
   "metadata": {},
   "outputs": [],
   "source": [
    "from sklearn import tree\n",
    "clf = tree.DecisionTreeClassifier(criterion=\"gini\", max_depth=15)\n",
    "clf = clf.fit(X_train, y_train)\n",
    "\n",
    "clf2 = tree.DecisionTreeClassifier(criterion=\"entropy\", max_depth=15)\n",
    "clf2 = clf2.fit(X_train, y_train)\n",
    "\n",
    "clf3 = tree.DecisionTreeClassifier(criterion=\"log_loss\", max_depth=15)\n",
    "clf3 = clf3.fit(X_train, y_train)\n",
    "\n",
    "y_pred = clf.predict(X_test)\n",
    "y_pred_2 = clf2.predict(X_test)\n",
    "y_pred_3 = clf3.predict(X_test)"
   ]
  },
  {
   "cell_type": "code",
   "execution_count": 56,
   "id": "f80f8ec0",
   "metadata": {},
   "outputs": [
    {
     "data": {
      "text/plain": [
       "array([[1680,   29],\n",
       "       [  40,  905]], dtype=int64)"
      ]
     },
     "execution_count": 56,
     "metadata": {},
     "output_type": "execute_result"
    }
   ],
   "source": [
    "confusion_matrix(y_pred,y_test)"
   ]
  },
  {
   "cell_type": "code",
   "execution_count": 57,
   "id": "c147de18",
   "metadata": {},
   "outputs": [
    {
     "name": "stdout",
     "output_type": "stream",
     "text": [
      "Accuracy: 0.9740015071590052\n"
     ]
    }
   ],
   "source": [
    "print(\"Accuracy:\",metrics.accuracy_score(y_test, y_pred))"
   ]
  },
  {
   "cell_type": "code",
   "execution_count": 58,
   "id": "3242fb46",
   "metadata": {},
   "outputs": [
    {
     "data": {
      "text/plain": [
       "array([[1688,    1],\n",
       "       [  32,  933]], dtype=int64)"
      ]
     },
     "execution_count": 58,
     "metadata": {},
     "output_type": "execute_result"
    }
   ],
   "source": [
    "confusion_matrix(y_pred_2,y_test)"
   ]
  },
  {
   "cell_type": "code",
   "execution_count": 59,
   "id": "cdb2f851",
   "metadata": {},
   "outputs": [
    {
     "name": "stdout",
     "output_type": "stream",
     "text": [
      "Accuracy: 0.9875659382064808\n"
     ]
    }
   ],
   "source": [
    "print(\"Accuracy:\",metrics.accuracy_score(y_test, y_pred_2))"
   ]
  },
  {
   "cell_type": "code",
   "execution_count": 60,
   "id": "b2e4eb82",
   "metadata": {},
   "outputs": [
    {
     "data": {
      "text/plain": [
       "array([[1690,    1],\n",
       "       [  30,  933]], dtype=int64)"
      ]
     },
     "execution_count": 60,
     "metadata": {},
     "output_type": "execute_result"
    }
   ],
   "source": [
    "confusion_matrix(y_pred_3,y_test)"
   ]
  },
  {
   "cell_type": "code",
   "execution_count": 61,
   "id": "9286b413",
   "metadata": {},
   "outputs": [
    {
     "name": "stdout",
     "output_type": "stream",
     "text": [
      "Accuracy: 0.9883195177091183\n"
     ]
    }
   ],
   "source": [
    "print(\"Accuracy:\",metrics.accuracy_score(y_test, y_pred_3))"
   ]
  },
  {
   "cell_type": "code",
   "execution_count": 77,
   "id": "d907f5ab",
   "metadata": {},
   "outputs": [
    {
     "name": "stdout",
     "output_type": "stream",
     "text": [
      "[0.7057272042200452, 0.7701582516955539, 0.8070836473247928, 0.8349660889223813, 0.8685003767897513, 0.8922381311228335, 0.912207987942728, 0.9227581009796534, 0.9400904295403165, 0.9574227581009797, 0.9634513941220799, 0.9691032403918614, 0.9717407686510927, 0.9747550866616428, 0.9755086661642803, 0.9788997739261492, 0.9773926149208741, 0.9773926149208741, 0.9785229841748304]\n"
     ]
    }
   ],
   "source": [
    "prec = []\n",
    "for i in range(1,20):\n",
    "    clf = tree.DecisionTreeClassifier(criterion=\"gini\", max_depth = i)\n",
    "    clf = clf.fit(X_train, y_train)\n",
    "    y_pred = clf.predict(X_test)\n",
    "    prec.append(metrics.accuracy_score(y_test, y_pred))\n",
    "print(prec)"
   ]
  },
  {
   "cell_type": "code",
   "execution_count": 78,
   "id": "94e8425a",
   "metadata": {},
   "outputs": [
    {
     "data": {
      "text/plain": [
       "Text(0.5, 1.0, 'Gini')"
      ]
     },
     "execution_count": 78,
     "metadata": {},
     "output_type": "execute_result"
    },
    {
     "data": {
      "image/png": "[encoded data removed]",
      "text/plain": [
       "<Figure size 432x288 with 1 Axes>"
      ]
     },
     "metadata": {
      "needs_background": "light"
     },
     "output_type": "display_data"
    }
   ],
   "source": [
    "plt.plot(prec,'ro')\n",
    "plt.title(\"Gini\")"
   ]
  },
  {
   "cell_type": "code",
   "execution_count": 69,
   "id": "ce3bc3f3",
   "metadata": {},
   "outputs": [
    {
     "name": "stdout",
     "output_type": "stream",
     "text": [
      "[0.7057272042200452, 0.7701582516955539, 0.79879427279578, 0.8372268274302939, 0.8568198944988696, 0.8677467972871138, 0.8918613413715147, 0.9107008289374529, 0.9261492087415222, 0.9446119065561417, 0.9615674453654861, 0.9732479276563677, 0.9849284099472494, 0.9853051996985682, 0.9890730972117558, 0.9886963074604371, 0.9920874152223059, 0.9920874152223059, 0.9905802562170309]\n"
     ]
    }
   ],
   "source": [
    "prec2 = []\n",
    "for i in range(1,20):\n",
    "    clf = tree.DecisionTreeClassifier(criterion=\"entropy\", max_depth = i)\n",
    "    clf = clf.fit(X_train, y_train)\n",
    "    y_pred = clf.predict(X_test)\n",
    "    prec2.append(metrics.accuracy_score(y_test, y_pred))\n",
    "print(prec2)"
   ]
  },
  {
   "cell_type": "code",
   "execution_count": 79,
   "id": "407a5b87",
   "metadata": {
    "scrolled": true
   },
   "outputs": [
    {
     "data": {
      "text/plain": [
       "Text(0.5, 1.0, 'Entropy')"
      ]
     },
     "execution_count": 79,
     "metadata": {},
     "output_type": "execute_result"
    },
    {
     "data": {
      "image/png": "[encoded data removed]",
      "text/plain": [
       "<Figure size 432x288 with 1 Axes>"
      ]
     },
     "metadata": {
      "needs_background": "light"
     },
     "output_type": "display_data"
    }
   ],
   "source": [
    "plt.plot(prec2,'ro')\n",
    "plt.title('Entropy')"
   ]
  },
  {
   "cell_type": "code",
   "execution_count": 71,
   "id": "0a3c8605",
   "metadata": {},
   "outputs": [
    {
     "name": "stdout",
     "output_type": "stream",
     "text": [
      "[0.7057272042200452, 0.7701582516955539, 0.79879427279578, 0.8372268274302939, 0.8568198944988696, 0.8677467972871138, 0.8918613413715147, 0.9114544084400904, 0.9257724189902035, 0.9453654860587792, 0.9611906556141673, 0.9736247174076865, 0.9837980406932931, 0.9860587792012058, 0.9886963074604371, 0.9890730972117558, 0.9909570459683497, 0.9913338357196684, 0.9924642049736248]\n"
     ]
    }
   ],
   "source": [
    "prec3 = []\n",
    "for i in range(1,20):\n",
    "    clf = tree.DecisionTreeClassifier(criterion=\"log_loss\", max_depth = i)\n",
    "    clf = clf.fit(X_train, y_train)\n",
    "    y_pred = clf.predict(X_test)\n",
    "    prec3.append(metrics.accuracy_score(y_test, y_pred))\n",
    "print(prec3)"
   ]
  },
  {
   "cell_type": "code",
   "execution_count": 80,
   "id": "dc4246e5",
   "metadata": {},
   "outputs": [
    {
     "data": {
      "text/plain": [
       "Text(0.5, 1.0, 'Log-loss')"
      ]
     },
     "execution_count": 80,
     "metadata": {},
     "output_type": "execute_result"
    },
    {
     "data": {
      "image/png": "[encoded data removed]",
      "text/plain": [
       "<Figure size 432x288 with 1 Axes>"
      ]
     },
     "metadata": {
      "needs_background": "light"
     },
     "output_type": "display_data"
    }
   ],
   "source": [
    "plt.plot(prec3,'ro')\n",
    "plt.title('Log-loss')"
   ]
  },
  {
   "cell_type": "code",
   "execution_count": 81,
   "id": "b4ba52f5",
   "metadata": {},
   "outputs": [
    {
     "name": "stdout",
     "output_type": "stream",
     "text": [
      "[0.7057272042200452, 0.7701582516955539, 0.79879427279578, 0.8372268274302939, 0.8568198944988696, 0.8677467972871138, 0.8918613413715147, 0.9103240391861341, 0.926525998492841, 0.9446119065561417, 0.9634513941220799, 0.9736247174076865, 0.9837980406932931, 0.9856819894498869, 0.9879427279577996, 0.9886963074604371, 0.9917106254709872, 0.9905802562170309, 0.9920874152223059, 0.9917106254709872, 0.9932177844762623, 0.9928409947249435, 0.9909570459683497, 0.9924642049736248, 0.9920874152223059, 0.9920874152223059, 0.9928409947249435, 0.9928409947249435, 0.9913338357196684]\n"
     ]
    }
   ],
   "source": [
    "prec4 = []\n",
    "for i in range(1,30):\n",
    "    clf = tree.DecisionTreeClassifier(criterion=\"log_loss\", max_depth = i)\n",
    "    clf = clf.fit(X_train, y_train)\n",
    "    y_pred = clf.predict(X_test)\n",
    "    prec4.append(metrics.accuracy_score(y_test, y_pred))\n",
    "print(prec4)"
   ]
  },
  {
   "cell_type": "code",
   "execution_count": 82,
   "id": "cd5ea7f5",
   "metadata": {
    "scrolled": true
   },
   "outputs": [
    {
     "data": {
      "text/plain": [
       "[<matplotlib.lines.Line2D at 0x26473524df0>]"
      ]
     },
     "execution_count": 82,
     "metadata": {},
     "output_type": "execute_result"
    },
    {
     "data": {
      "image/png": "[encoded data removed]",
      "text/plain": [
       "<Figure size 432x288 with 1 Axes>"
      ]
     },
     "metadata": {
      "needs_background": "light"
     },
     "output_type": "display_data"
    }
   ],
   "source": [
    "plt.plot(prec4,'ro')"
   ]
  },
  {
   "cell_type": "markdown",
   "id": "55519e6a",
   "metadata": {},
   "source": [
    "## 2.5. Random forest"
   ]
  },
  {
   "cell_type": "code",
   "execution_count": 97,
   "id": "14bdfcba",
   "metadata": {},
   "outputs": [],
   "source": [
    "from sklearn.ensemble import RandomForestClassifier\n",
    "clf = RandomForestClassifier(max_depth=10)\n",
    "clf = clf.fit(X_train, y_train)"
   ]
  },
  {
   "cell_type": "code",
   "execution_count": 98,
   "id": "65140ea4",
   "metadata": {},
   "outputs": [],
   "source": [
    "y_pred = clf.predict(X_test)"
   ]
  },
  {
   "cell_type": "code",
   "execution_count": 99,
   "id": "534adc25",
   "metadata": {},
   "outputs": [
    {
     "data": {
      "text/plain": [
       "array([[1715,   39],\n",
       "       [   5,  895]], dtype=int64)"
      ]
     },
     "execution_count": 99,
     "metadata": {},
     "output_type": "execute_result"
    }
   ],
   "source": [
    "from sklearn.metrics import confusion_matrix\n",
    "confusion_matrix(y_pred,y_test)"
   ]
  },
  {
   "cell_type": "code",
   "execution_count": 100,
   "id": "bacc052d",
   "metadata": {},
   "outputs": [
    {
     "name": "stdout",
     "output_type": "stream",
     "text": [
      "Accuracy: 0.9834212509419744\n"
     ]
    }
   ],
   "source": [
    "print(\"Accuracy:\",metrics.accuracy_score(y_test, y_pred))"
   ]
  },
  {
   "cell_type": "code",
   "execution_count": 101,
   "id": "23ee1d14",
   "metadata": {},
   "outputs": [
    {
     "name": "stdout",
     "output_type": "stream",
     "text": [
      "[0.6480783722682742, 0.7132629992464204, 0.7920120572720422, 0.8632253202712886, 0.880180859080633, 0.9114544084400904, 0.9253956292388847, 0.9562923888470234, 0.9713639788997739, 0.9845516201959307, 0.9879427279577996, 0.9920874152223059, 0.9939713639788997, 0.9954785229841748, 0.9958553127354935, 0.9977392614920875, 0.9977392614920875, 0.9988696307460437, 0.9988696307460437]\n"
     ]
    }
   ],
   "source": [
    "results = []\n",
    "for i in range(1,20):\n",
    "    clf = RandomForestClassifier(max_depth=i)\n",
    "    clf = clf.fit(X_train, y_train)\n",
    "    y_pred = clf.predict(X_test)\n",
    "    results.append(metrics.accuracy_score(y_test, y_pred))\n",
    "print(results)"
   ]
  },
  {
   "cell_type": "code",
   "execution_count": 103,
   "id": "811eb916",
   "metadata": {},
   "outputs": [
    {
     "data": {
      "text/plain": [
       "Text(0.5, 1.0, 'Gini')"
      ]
     },
     "execution_count": 103,
     "metadata": {},
     "output_type": "execute_result"
    },
    {
     "data": {
      "image/png": "[encoded data removed]",
      "text/plain": [
       "<Figure size 432x288 with 1 Axes>"
      ]
     },
     "metadata": {
      "needs_background": "light"
     },
     "output_type": "display_data"
    }
   ],
   "source": [
    "plt.plot(results, 'ro')\n",
    "plt.title('Gini')"
   ]
  },
  {
   "cell_type": "code",
   "execution_count": 106,
   "id": "be575441",
   "metadata": {},
   "outputs": [
    {
     "data": {
      "text/plain": [
       "array([[1716,   33],\n",
       "       [   4,  901]], dtype=int64)"
      ]
     },
     "execution_count": 106,
     "metadata": {},
     "output_type": "execute_result"
    }
   ],
   "source": [
    "clf = RandomForestClassifier(max_depth=10, criterion = 'entropy')\n",
    "clf = clf.fit(X_train, y_train)\n",
    "y_pred = clf.predict(X_test)\n",
    "confusion_matrix(y_pred,y_test)"
   ]
  },
  {
   "cell_type": "code",
   "execution_count": 107,
   "id": "db039d36",
   "metadata": {},
   "outputs": [
    {
     "name": "stdout",
     "output_type": "stream",
     "text": [
      "Accuracy: 0.9860587792012058\n"
     ]
    }
   ],
   "source": [
    "print(\"Accuracy:\",metrics.accuracy_score(y_test, y_pred))"
   ]
  },
  {
   "cell_type": "code",
   "execution_count": 108,
   "id": "d1087652",
   "metadata": {},
   "outputs": [
    {
     "name": "stdout",
     "output_type": "stream",
     "text": [
      "[0.6480783722682742, 0.7147701582516955, 0.7863602110022607, 0.8609645817633761, 0.8771665410700829, 0.9001507159005275, 0.9321778447626224, 0.9555388093443858, 0.9762622456669179, 0.9879427279577996, 0.9943481537302186, 0.9977392614920875, 0.9977392614920875, 0.9988696307460437, 0.9988696307460437, 0.9988696307460437, 0.9992464204973625, 0.9988696307460437, 0.9988696307460437]\n"
     ]
    }
   ],
   "source": [
    "results = []\n",
    "for i in range(1,20):\n",
    "    clf = RandomForestClassifier(max_depth=i, criterion = 'entropy')\n",
    "    clf = clf.fit(X_train, y_train)\n",
    "    y_pred = clf.predict(X_test)\n",
    "    results.append(metrics.accuracy_score(y_test, y_pred))\n",
    "print(results)"
   ]
  },
  {
   "cell_type": "code",
   "execution_count": 109,
   "id": "5012976e",
   "metadata": {},
   "outputs": [
    {
     "data": {
      "text/plain": [
       "Text(0.5, 1.0, 'Entropy')"
      ]
     },
     "execution_count": 109,
     "metadata": {},
     "output_type": "execute_result"
    },
    {
     "data": {
      "image/png": "[encoded data removed]",
      "text/plain": [
       "<Figure size 432x288 with 1 Axes>"
      ]
     },
     "metadata": {
      "needs_background": "light"
     },
     "output_type": "display_data"
    }
   ],
   "source": [
    "plt.plot(results, 'ro')\n",
    "plt.title('Entropy')"
   ]
  },
  {
   "cell_type": "code",
   "execution_count": 110,
   "id": "36400d19",
   "metadata": {},
   "outputs": [
    {
     "data": {
      "text/plain": [
       "array([[1716,   29],\n",
       "       [   4,  905]], dtype=int64)"
      ]
     },
     "execution_count": 110,
     "metadata": {},
     "output_type": "execute_result"
    }
   ],
   "source": [
    "clf = RandomForestClassifier(max_depth=10, criterion = 'log_loss')\n",
    "clf = clf.fit(X_train, y_train)\n",
    "y_pred = clf.predict(X_test)\n",
    "confusion_matrix(y_pred,y_test)"
   ]
  },
  {
   "cell_type": "code",
   "execution_count": 111,
   "id": "2164772b",
   "metadata": {},
   "outputs": [
    {
     "name": "stdout",
     "output_type": "stream",
     "text": [
      "Accuracy: 0.9875659382064808\n"
     ]
    }
   ],
   "source": [
    "print(\"Accuracy:\",metrics.accuracy_score(y_test, y_pred))"
   ]
  },
  {
   "cell_type": "code",
   "execution_count": 112,
   "id": "94ea3052",
   "metadata": {},
   "outputs": [
    {
     "name": "stdout",
     "output_type": "stream",
     "text": [
      "[0.6733232856066315, 0.7042200452147701, 0.8055764883195177, 0.8553127354935945, 0.8764129615674454, 0.9024114544084401, 0.9348153730218538, 0.9559155990957046, 0.9743782969103241, 0.9864355689525245, 0.9939713639788997, 0.9977392614920875, 0.9981160512434062, 0.9977392614920875, 0.9988696307460437, 0.9988696307460437, 0.9988696307460437, 0.9988696307460437, 0.9992464204973625]\n"
     ]
    }
   ],
   "source": [
    "results = []\n",
    "for i in range(1,20):\n",
    "    clf = RandomForestClassifier(max_depth=i, criterion = 'log_loss')\n",
    "    clf = clf.fit(X_train, y_train)\n",
    "    y_pred = clf.predict(X_test)\n",
    "    results.append(metrics.accuracy_score(y_test, y_pred))\n",
    "print(results)"
   ]
  },
  {
   "cell_type": "code",
   "execution_count": 113,
   "id": "5da93d24",
   "metadata": {},
   "outputs": [
    {
     "data": {
      "text/plain": [
       "Text(0.5, 1.0, 'Log-loss')"
      ]
     },
     "execution_count": 113,
     "metadata": {},
     "output_type": "execute_result"
    },
    {
     "data": {
      "image/png": "[encoded data removed]",
      "text/plain": [
       "<Figure size 432x288 with 1 Axes>"
      ]
     },
     "metadata": {
      "needs_background": "light"
     },
     "output_type": "display_data"
    }
   ],
   "source": [
    "plt.plot(results, 'ro')\n",
    "plt.title('Log-loss')"
   ]
  },
  {
   "cell_type": "markdown",
   "id": "8a150b24",
   "metadata": {},
   "source": [
    "## 2.6. Neural network"
   ]
  },
  {
   "cell_type": "code",
   "execution_count": 114,
   "id": "4bf345ff",
   "metadata": {},
   "outputs": [
    {
     "name": "stdout",
     "output_type": "stream",
     "text": [
      "0.9871346048503562\n",
      "              precision    recall  f1-score   support\n",
      "\n",
      "           0       0.99      0.99      0.99      1720\n",
      "           1       0.97      0.99      0.98       934\n",
      "\n",
      "    accuracy                           0.99      2654\n",
      "   macro avg       0.98      0.99      0.99      2654\n",
      "weighted avg       0.99      0.99      0.99      2654\n",
      "\n"
     ]
    }
   ],
   "source": [
    "from sklearn.neural_network import MLPClassifier\n",
    "from sklearn.metrics import roc_auc_score\n",
    "mlp = MLPClassifier(solver = 'lbfgs', activation = 'relu',\n",
    "                   hidden_layer_sizes = (100,50,30), \n",
    "                    max_iter = 1000)\n",
    "\n",
    "mlp.fit(X_train, y_train)\n",
    "mlp_pred = mlp.predict(X_test)\n",
    "\n",
    "#Printing out our evaluation metrics\n",
    "print(roc_auc_score(y_test, mlp_pred))\n",
    "print(classification_report(y_test, mlp_pred))"
   ]
  },
  {
   "cell_type": "code",
   "execution_count": 333,
   "id": "0896e6af",
   "metadata": {},
   "outputs": [
    {
     "data": {
      "text/plain": [
       "array([[1699,   12],\n",
       "       [  21,  922]], dtype=int64)"
      ]
     },
     "execution_count": 333,
     "metadata": {},
     "output_type": "execute_result"
    }
   ],
   "source": [
    "from sklearn.metrics import confusion_matrix\n",
    "confusion_matrix(mlp_pred,y_test)"
   ]
  },
  {
   "cell_type": "code",
   "execution_count": 115,
   "id": "a1cfb1cc",
   "metadata": {},
   "outputs": [
    {
     "name": "stdout",
     "output_type": "stream",
     "text": [
      "0.9889248543399234\n",
      "              precision    recall  f1-score   support\n",
      "\n",
      "           0       0.99      0.99      0.99      1720\n",
      "           1       0.98      0.99      0.99       934\n",
      "\n",
      "    accuracy                           0.99      2654\n",
      "   macro avg       0.99      0.99      0.99      2654\n",
      "weighted avg       0.99      0.99      0.99      2654\n",
      "\n",
      "0.9920447188885015\n",
      "              precision    recall  f1-score   support\n",
      "\n",
      "           0       1.00      0.99      0.99      1720\n",
      "           1       0.98      1.00      0.99       934\n",
      "\n",
      "    accuracy                           0.99      2654\n",
      "   macro avg       0.99      0.99      0.99      2654\n",
      "weighted avg       0.99      0.99      0.99      2654\n",
      "\n",
      "0.984947213784174\n",
      "              precision    recall  f1-score   support\n",
      "\n",
      "           0       0.99      0.98      0.99      1720\n",
      "           1       0.97      0.99      0.98       934\n",
      "\n",
      "    accuracy                           0.98      2654\n",
      "   macro avg       0.98      0.98      0.98      2654\n",
      "weighted avg       0.99      0.98      0.98      2654\n",
      "\n",
      "0.5\n",
      "              precision    recall  f1-score   support\n",
      "\n",
      "           0       0.65      1.00      0.79      1720\n",
      "           1       0.00      0.00      0.00       934\n",
      "\n",
      "    accuracy                           0.65      2654\n",
      "   macro avg       0.32      0.50      0.39      2654\n",
      "weighted avg       0.42      0.65      0.51      2654\n",
      "\n",
      "0.9515406354265228\n",
      "              precision    recall  f1-score   support\n",
      "\n",
      "           0       0.96      0.97      0.97      1720\n",
      "           1       0.95      0.93      0.94       934\n",
      "\n",
      "    accuracy                           0.96      2654\n",
      "   macro avg       0.96      0.95      0.95      2654\n",
      "weighted avg       0.96      0.96      0.96      2654\n",
      "\n",
      "0.949813878790897\n",
      "              precision    recall  f1-score   support\n",
      "\n",
      "           0       0.96      0.98      0.97      1720\n",
      "           1       0.97      0.92      0.94       934\n",
      "\n",
      "    accuracy                           0.96      2654\n",
      "   macro avg       0.96      0.95      0.96      2654\n",
      "weighted avg       0.96      0.96      0.96      2654\n",
      "\n",
      "0.9687777003137295\n",
      "              precision    recall  f1-score   support\n",
      "\n",
      "           0       0.98      0.97      0.98      1720\n",
      "           1       0.94      0.97      0.96       934\n",
      "\n",
      "    accuracy                           0.97      2654\n",
      "   macro avg       0.96      0.97      0.97      2654\n",
      "weighted avg       0.97      0.97      0.97      2654\n",
      "\n",
      "0.9882052686619194\n",
      "              precision    recall  f1-score   support\n",
      "\n",
      "           0       0.99      0.99      0.99      1720\n",
      "           1       0.97      0.99      0.98       934\n",
      "\n",
      "    accuracy                           0.99      2654\n",
      "   macro avg       0.98      0.99      0.99      2654\n",
      "weighted avg       0.99      0.99      0.99      2654\n",
      "\n",
      "0.9822244908122104\n",
      "              precision    recall  f1-score   support\n",
      "\n",
      "           0       0.99      0.98      0.99      1720\n",
      "           1       0.97      0.98      0.98       934\n",
      "\n",
      "    accuracy                           0.98      2654\n",
      "   macro avg       0.98      0.98      0.98      2654\n",
      "weighted avg       0.98      0.98      0.98      2654\n",
      "\n"
     ]
    }
   ],
   "source": [
    "solver_list = ['lbfgs', 'sgd', 'adam']\n",
    "act_list = ['logistic', 'tanh', 'relu']\n",
    "for s in solver_list:\n",
    "    for a in act_list:\n",
    "        mlp = MLPClassifier(solver = s, activation = a,\n",
    "                   hidden_layer_sizes = (100,50,30), \n",
    "                    max_iter = 1000)\n",
    "        \n",
    "        mlp.fit(X_train, y_train)\n",
    "        mlp_pred = mlp.predict(X_test)\n",
    "        print(roc_auc_score(y_test, mlp_pred))\n",
    "        print(classification_report(y_test, mlp_pred))\n",
    "        confusion_matrix(mlp_pred,y_test)"
   ]
  },
  {
   "cell_type": "markdown",
   "id": "aedc0034",
   "metadata": {},
   "source": [
    "# 3. Csak a szöveg"
   ]
  },
  {
   "cell_type": "markdown",
   "id": "9f227f8d",
   "metadata": {},
   "source": [
    "# 3.1. Átalakítás numerikus adattá a TFIDF módszerrel"
   ]
  },
  {
   "cell_type": "code",
   "execution_count": 116,
   "id": "56a2c918",
   "metadata": {
    "scrolled": true
   },
   "outputs": [
    {
     "data": {
      "text/html": [
       "<div>\n",
       "<style scoped>\n",
       "    .dataframe tbody tr th:only-of-type {\n",
       "        vertical-align: middle;\n",
       "    }\n",
       "\n",
       "    .dataframe tbody tr th {\n",
       "        vertical-align: top;\n",
       "    }\n",
       "\n",
       "    .dataframe thead th {\n",
       "        text-align: right;\n",
       "    }\n",
       "</style>\n",
       "<table border=\"1\" class=\"dataframe\">\n",
       "  <thead>\n",
       "    <tr style=\"text-align: right;\">\n",
       "      <th></th>\n",
       "      <th>job_id</th>\n",
       "      <th>title</th>\n",
       "      <th>location</th>\n",
       "      <th>department</th>\n",
       "      <th>salary_range</th>\n",
       "      <th>company_profile</th>\n",
       "      <th>description</th>\n",
       "      <th>requirements</th>\n",
       "      <th>benefits</th>\n",
       "      <th>telecommuting</th>\n",
       "      <th>has_company_logo</th>\n",
       "      <th>has_questions</th>\n",
       "      <th>employment_type</th>\n",
       "      <th>required_experience</th>\n",
       "      <th>required_education</th>\n",
       "      <th>industry</th>\n",
       "      <th>function</th>\n",
       "      <th>fraudulent</th>\n",
       "    </tr>\n",
       "  </thead>\n",
       "  <tbody>\n",
       "    <tr>\n",
       "      <th>0</th>\n",
       "      <td>1</td>\n",
       "      <td>Marketing Intern</td>\n",
       "      <td>US, NY, New York</td>\n",
       "      <td>Marketing</td>\n",
       "      <td>NaN</td>\n",
       "      <td>We're Food52, and we've created a groundbreaki...</td>\n",
       "      <td>Food52, a fast-growing, James Beard Award-winn...</td>\n",
       "      <td>Experience with content management systems a m...</td>\n",
       "      <td>NaN</td>\n",
       "      <td>0</td>\n",
       "      <td>1</td>\n",
       "      <td>0</td>\n",
       "      <td>Other</td>\n",
       "      <td>Internship</td>\n",
       "      <td>NaN</td>\n",
       "      <td>NaN</td>\n",
       "      <td>Marketing</td>\n",
       "      <td>0</td>\n",
       "    </tr>\n",
       "    <tr>\n",
       "      <th>1</th>\n",
       "      <td>2</td>\n",
       "      <td>Customer Service - Cloud Video Production</td>\n",
       "      <td>NZ, , Auckland</td>\n",
       "      <td>Success</td>\n",
       "      <td>NaN</td>\n",
       "      <td>90 Seconds, the worlds Cloud Video Production ...</td>\n",
       "      <td>Organised - Focused - Vibrant - Awesome!Do you...</td>\n",
       "      <td>What we expect from you:Your key responsibilit...</td>\n",
       "      <td>What you will get from usThrough being part of...</td>\n",
       "      <td>0</td>\n",
       "      <td>1</td>\n",
       "      <td>0</td>\n",
       "      <td>Full-time</td>\n",
       "      <td>Not Applicable</td>\n",
       "      <td>NaN</td>\n",
       "      <td>Marketing and Advertising</td>\n",
       "      <td>Customer Service</td>\n",
       "      <td>0</td>\n",
       "    </tr>\n",
       "    <tr>\n",
       "      <th>2</th>\n",
       "      <td>3</td>\n",
       "      <td>Commissioning Machinery Assistant (CMA)</td>\n",
       "      <td>US, IA, Wever</td>\n",
       "      <td>NaN</td>\n",
       "      <td>NaN</td>\n",
       "      <td>Valor Services provides Workforce Solutions th...</td>\n",
       "      <td>Our client, located in Houston, is actively se...</td>\n",
       "      <td>Implement pre-commissioning and commissioning ...</td>\n",
       "      <td>NaN</td>\n",
       "      <td>0</td>\n",
       "      <td>1</td>\n",
       "      <td>0</td>\n",
       "      <td>NaN</td>\n",
       "      <td>NaN</td>\n",
       "      <td>NaN</td>\n",
       "      <td>NaN</td>\n",
       "      <td>NaN</td>\n",
       "      <td>0</td>\n",
       "    </tr>\n",
       "    <tr>\n",
       "      <th>3</th>\n",
       "      <td>4</td>\n",
       "      <td>Account Executive - Washington DC</td>\n",
       "      <td>US, DC, Washington</td>\n",
       "      <td>Sales</td>\n",
       "      <td>NaN</td>\n",
       "      <td>Our passion for improving quality of life thro...</td>\n",
       "      <td>THE COMPANY: ESRI – Environmental Systems Rese...</td>\n",
       "      <td>EDUCATION: Bachelor’s or Master’s in GIS, busi...</td>\n",
       "      <td>Our culture is anything but corporate—we have ...</td>\n",
       "      <td>0</td>\n",
       "      <td>1</td>\n",
       "      <td>0</td>\n",
       "      <td>Full-time</td>\n",
       "      <td>Mid-Senior level</td>\n",
       "      <td>Bachelor's Degree</td>\n",
       "      <td>Computer Software</td>\n",
       "      <td>Sales</td>\n",
       "      <td>0</td>\n",
       "    </tr>\n",
       "    <tr>\n",
       "      <th>4</th>\n",
       "      <td>5</td>\n",
       "      <td>Bill Review Manager</td>\n",
       "      <td>US, FL, Fort Worth</td>\n",
       "      <td>NaN</td>\n",
       "      <td>NaN</td>\n",
       "      <td>SpotSource Solutions LLC is a Global Human Cap...</td>\n",
       "      <td>JOB TITLE: Itemization Review ManagerLOCATION:...</td>\n",
       "      <td>QUALIFICATIONS:RN license in the State of Texa...</td>\n",
       "      <td>Full Benefits Offered</td>\n",
       "      <td>0</td>\n",
       "      <td>1</td>\n",
       "      <td>1</td>\n",
       "      <td>Full-time</td>\n",
       "      <td>Mid-Senior level</td>\n",
       "      <td>Bachelor's Degree</td>\n",
       "      <td>Hospital &amp; Health Care</td>\n",
       "      <td>Health Care Provider</td>\n",
       "      <td>0</td>\n",
       "    </tr>\n",
       "  </tbody>\n",
       "</table>\n",
       "</div>"
      ],
      "text/plain": [
       "   job_id                                      title            location  \\\n",
       "0       1                           Marketing Intern    US, NY, New York   \n",
       "1       2  Customer Service - Cloud Video Production      NZ, , Auckland   \n",
       "2       3    Commissioning Machinery Assistant (CMA)       US, IA, Wever   \n",
       "3       4          Account Executive - Washington DC  US, DC, Washington   \n",
       "4       5                        Bill Review Manager  US, FL, Fort Worth   \n",
       "\n",
       "  department salary_range                                    company_profile  \\\n",
       "0  Marketing          NaN  We're Food52, and we've created a groundbreaki...   \n",
       "1    Success          NaN  90 Seconds, the worlds Cloud Video Production ...   \n",
       "2        NaN          NaN  Valor Services provides Workforce Solutions th...   \n",
       "3      Sales          NaN  Our passion for improving quality of life thro...   \n",
       "4        NaN          NaN  SpotSource Solutions LLC is a Global Human Cap...   \n",
       "\n",
       "                                         description  \\\n",
       "0  Food52, a fast-growing, James Beard Award-winn...   \n",
       "1  Organised - Focused - Vibrant - Awesome!Do you...   \n",
       "2  Our client, located in Houston, is actively se...   \n",
       "3  THE COMPANY: ESRI – Environmental Systems Rese...   \n",
       "4  JOB TITLE: Itemization Review ManagerLOCATION:...   \n",
       "\n",
       "                                        requirements  \\\n",
       "0  Experience with content management systems a m...   \n",
       "1  What we expect from you:Your key responsibilit...   \n",
       "2  Implement pre-commissioning and commissioning ...   \n",
       "3  EDUCATION: Bachelor’s or Master’s in GIS, busi...   \n",
       "4  QUALIFICATIONS:RN license in the State of Texa...   \n",
       "\n",
       "                                            benefits  telecommuting  \\\n",
       "0                                                NaN              0   \n",
       "1  What you will get from usThrough being part of...              0   \n",
       "2                                                NaN              0   \n",
       "3  Our culture is anything but corporate—we have ...              0   \n",
       "4                              Full Benefits Offered              0   \n",
       "\n",
       "   has_company_logo  has_questions employment_type required_experience  \\\n",
       "0                 1              0           Other          Internship   \n",
       "1                 1              0       Full-time      Not Applicable   \n",
       "2                 1              0             NaN                 NaN   \n",
       "3                 1              0       Full-time    Mid-Senior level   \n",
       "4                 1              1       Full-time    Mid-Senior level   \n",
       "\n",
       "  required_education                   industry              function  \\\n",
       "0                NaN                        NaN             Marketing   \n",
       "1                NaN  Marketing and Advertising      Customer Service   \n",
       "2                NaN                        NaN                   NaN   \n",
       "3  Bachelor's Degree          Computer Software                 Sales   \n",
       "4  Bachelor's Degree     Hospital & Health Care  Health Care Provider   \n",
       "\n",
       "   fraudulent  \n",
       "0           0  \n",
       "1           0  \n",
       "2           0  \n",
       "3           0  \n",
       "4           0  "
      ]
     },
     "execution_count": 116,
     "metadata": {},
     "output_type": "execute_result"
    }
   ],
   "source": [
    "jobs_over.head()"
   ]
  },
  {
   "cell_type": "code",
   "execution_count": 117,
   "id": "1bb23dd8",
   "metadata": {},
   "outputs": [
    {
     "data": {
      "text/html": [
       "<div>\n",
       "<style scoped>\n",
       "    .dataframe tbody tr th:only-of-type {\n",
       "        vertical-align: middle;\n",
       "    }\n",
       "\n",
       "    .dataframe tbody tr th {\n",
       "        vertical-align: top;\n",
       "    }\n",
       "\n",
       "    .dataframe thead th {\n",
       "        text-align: right;\n",
       "    }\n",
       "</style>\n",
       "<table border=\"1\" class=\"dataframe\">\n",
       "  <thead>\n",
       "    <tr style=\"text-align: right;\">\n",
       "      <th></th>\n",
       "      <th>text</th>\n",
       "      <th>word count</th>\n",
       "      <th>fraudulent</th>\n",
       "    </tr>\n",
       "  </thead>\n",
       "  <tbody>\n",
       "    <tr>\n",
       "      <th>0</th>\n",
       "      <td>We're Food52, and we've created a groundbreaki...</td>\n",
       "      <td>378</td>\n",
       "      <td>0</td>\n",
       "    </tr>\n",
       "    <tr>\n",
       "      <th>1</th>\n",
       "      <td>90 Seconds, the worlds Cloud Video Production ...</td>\n",
       "      <td>644</td>\n",
       "      <td>0</td>\n",
       "    </tr>\n",
       "    <tr>\n",
       "      <th>2</th>\n",
       "      <td>Valor Services provides Workforce Solutions th...</td>\n",
       "      <td>348</td>\n",
       "      <td>0</td>\n",
       "    </tr>\n",
       "    <tr>\n",
       "      <th>3</th>\n",
       "      <td>Our passion for improving quality of life thro...</td>\n",
       "      <td>602</td>\n",
       "      <td>0</td>\n",
       "    </tr>\n",
       "    <tr>\n",
       "      <th>4</th>\n",
       "      <td>SpotSource Solutions LLC is a Global Human Cap...</td>\n",
       "      <td>474</td>\n",
       "      <td>0</td>\n",
       "    </tr>\n",
       "    <tr>\n",
       "      <th>...</th>\n",
       "      <td>...</td>\n",
       "      <td>...</td>\n",
       "      <td>...</td>\n",
       "    </tr>\n",
       "    <tr>\n",
       "      <th>26535</th>\n",
       "      <td>Student Positions Part-Time and Full-Time.You ...</td>\n",
       "      <td>58</td>\n",
       "      <td>1</td>\n",
       "    </tr>\n",
       "    <tr>\n",
       "      <th>26536</th>\n",
       "      <td>LEARN TO EARN AN EXECUTIVE LEVEL INCOMEFULL TR...</td>\n",
       "      <td>130</td>\n",
       "      <td>1</td>\n",
       "    </tr>\n",
       "    <tr>\n",
       "      <th>26537</th>\n",
       "      <td>inFullMobile Sp. z o.o. is a mobile software d...</td>\n",
       "      <td>220</td>\n",
       "      <td>1</td>\n",
       "    </tr>\n",
       "    <tr>\n",
       "      <th>26538</th>\n",
       "      <td>JOB DESCRIPTIONWe are seeking a full time payr...</td>\n",
       "      <td>74</td>\n",
       "      <td>1</td>\n",
       "    </tr>\n",
       "    <tr>\n",
       "      <th>26539</th>\n",
       "      <td>Anthony Warren is a Marketing and Advertising ...</td>\n",
       "      <td>136</td>\n",
       "      <td>1</td>\n",
       "    </tr>\n",
       "  </tbody>\n",
       "</table>\n",
       "<p>26540 rows × 3 columns</p>\n",
       "</div>"
      ],
      "text/plain": [
       "                                                    text  word count  \\\n",
       "0      We're Food52, and we've created a groundbreaki...         378   \n",
       "1      90 Seconds, the worlds Cloud Video Production ...         644   \n",
       "2      Valor Services provides Workforce Solutions th...         348   \n",
       "3      Our passion for improving quality of life thro...         602   \n",
       "4      SpotSource Solutions LLC is a Global Human Cap...         474   \n",
       "...                                                  ...         ...   \n",
       "26535  Student Positions Part-Time and Full-Time.You ...          58   \n",
       "26536  LEARN TO EARN AN EXECUTIVE LEVEL INCOMEFULL TR...         130   \n",
       "26537  inFullMobile Sp. z o.o. is a mobile software d...         220   \n",
       "26538  JOB DESCRIPTIONWe are seeking a full time payr...          74   \n",
       "26539  Anthony Warren is a Marketing and Advertising ...         136   \n",
       "\n",
       "       fraudulent  \n",
       "0               0  \n",
       "1               0  \n",
       "2               0  \n",
       "3               0  \n",
       "4               0  \n",
       "...           ...  \n",
       "26535           1  \n",
       "26536           1  \n",
       "26537           1  \n",
       "26538           1  \n",
       "26539           1  \n",
       "\n",
       "[26540 rows x 3 columns]"
      ]
     },
     "execution_count": 117,
     "metadata": {},
     "output_type": "execute_result"
    }
   ],
   "source": [
    "jobs_text = pd.DataFrame()\n",
    "jobs_text[\"text\"]=jobs_over[\"company_profile\"].fillna('')+jobs_over[\"description\"].fillna('')+jobs_over[\"requirements\"].fillna('')\n",
    "jobs_text['word count'] = [len(i.split(' ')) for i in jobs_text['text']]\n",
    "jobs_text[\"fraudulent\"]=jobs_over[\"fraudulent\"]\n",
    "jobs_text"
   ]
  },
  {
   "cell_type": "code",
   "execution_count": 119,
   "id": "ff1a190b",
   "metadata": {},
   "outputs": [
    {
     "name": "stdout",
     "output_type": "stream",
     "text": [
      "Collecting wordcloudNote: you may need to restart the kernel to use updated packages.\n",
      "  Downloading wordcloud-1.8.2.2-cp39-cp39-win_amd64.whl (153 kB)\n",
      "     -------------------------------------- 153.1/153.1 kB 1.1 MB/s eta 0:00:00\n",
      "Requirement already satisfied: numpy>=1.6.1 in c:\\users\\user\\anaconda3\\lib\\site-packages (from wordcloud) (1.21.5)\n",
      "Requirement already satisfied: matplotlib in c:\\users\\user\\anaconda3\\lib\\site-packages (from wordcloud) (3.5.1)\n",
      "Requirement already satisfied: pillow in c:\\users\\user\\anaconda3\\lib\\site-packages (from wordcloud) (9.0.1)\n",
      "Requirement already satisfied: pyparsing>=2.2.1 in c:\\users\\user\\anaconda3\\lib\\site-packages (from matplotlib->wordcloud) (3.0.4)\n",
      "Requirement already satisfied: kiwisolver>=1.0.1 in c:\\users\\user\\anaconda3\\lib\\site-packages (from matplotlib->wordcloud) (1.3.2)\n",
      "Requirement already satisfied: fonttools>=4.22.0 in c:\\users\\user\\anaconda3\\lib\\site-packages (from matplotlib->wordcloud) (4.25.0)\n",
      "Requirement already satisfied: packaging>=20.0 in c:\\users\\user\\anaconda3\\lib\\site-packages (from matplotlib->wordcloud) (21.3)\n",
      "\n",
      "Requirement already satisfied: cycler>=0.10 in c:\\users\\user\\anaconda3\\lib\\site-packages (from matplotlib->wordcloud) (0.11.0)\n",
      "Requirement already satisfied: python-dateutil>=2.7 in c:\\users\\user\\anaconda3\\lib\\site-packages (from matplotlib->wordcloud) (2.8.2)\n",
      "Requirement already satisfied: six>=1.5 in c:\\users\\user\\anaconda3\\lib\\site-packages (from python-dateutil>=2.7->matplotlib->wordcloud) (1.16.0)\n",
      "Installing collected packages: wordcloud\n",
      "Successfully installed wordcloud-1.8.2.2\n"
     ]
    }
   ],
   "source": [
    "pip install wordcloud"
   ]
  },
  {
   "cell_type": "code",
   "execution_count": 120,
   "id": "89e1bca0",
   "metadata": {},
   "outputs": [
    {
     "data": {
      "image/png": "[encoded data removed]",
      "text/plain": [
       "<Figure size 432x288 with 1 Axes>"
      ]
     },
     "metadata": {
      "needs_background": "light"
     },
     "output_type": "display_data"
    }
   ],
   "source": [
    "from wordcloud import WordCloud, STOPWORDS, ImageColorGenerator\n",
    "text = \" \".join(i for i in jobs_text['text'][:1000])\n",
    "wordcloud = WordCloud(background_color = \"white\", max_words = 500).generate(text)\n",
    "plt.imshow(wordcloud, interpolation = \"bilinear\")\n",
    "plt.axis(\"off\")\n",
    "plt.tight_layout(pad = 0)\n",
    "plt.show()"
   ]
  },
  {
   "cell_type": "code",
   "execution_count": 121,
   "id": "198676cb",
   "metadata": {},
   "outputs": [],
   "source": [
    "jobs_train, jobs_test= train_test_split(jobs_text, test_size=0.1, random_state=101)"
   ]
  },
  {
   "cell_type": "code",
   "execution_count": 122,
   "id": "363e7446",
   "metadata": {},
   "outputs": [],
   "source": [
    "y_train=jobs_train[\"fraudulent\"].array\n",
    "y_test=jobs_test[\"fraudulent\"].array"
   ]
  },
  {
   "cell_type": "code",
   "execution_count": 123,
   "id": "2c1b855f",
   "metadata": {},
   "outputs": [],
   "source": [
    "jobs_train = jobs_train.drop(columns = ['fraudulent'])\n",
    "jobs_test = jobs_test.drop(columns = ['fraudulent'])"
   ]
  },
  {
   "cell_type": "code",
   "execution_count": 124,
   "id": "dbf1e180",
   "metadata": {},
   "outputs": [],
   "source": [
    "#TFIDF\n",
    "from sklearn.feature_extraction.text import TfidfVectorizer\n",
    "vectorizer = TfidfVectorizer()\n",
    "vectorizer.fit(jobs_train[\"text\"].fillna('').array)\n",
    "X_train=vectorizer.transform(jobs_train[\"text\"].fillna('').array)\n",
    "X_test=vectorizer.transform(jobs_test[\"text\"].fillna('').array)"
   ]
  },
  {
   "cell_type": "code",
   "execution_count": 125,
   "id": "bba45376",
   "metadata": {},
   "outputs": [],
   "source": [
    "#Dimenziócsökkentés SVD-vel\n",
    "from sklearn.decomposition import TruncatedSVD\n",
    "svd = TruncatedSVD(n_components=100)\n",
    "svd.fit(X_train)\n",
    "X_train=svd.transform(X_train)\n",
    "X_test=svd.transform(X_test)"
   ]
  },
  {
   "cell_type": "markdown",
   "id": "44b57151",
   "metadata": {},
   "source": [
    "## 3.2. Neural network"
   ]
  },
  {
   "cell_type": "code",
   "execution_count": 126,
   "id": "e21008bb",
   "metadata": {},
   "outputs": [
    {
     "name": "stdout",
     "output_type": "stream",
     "text": [
      "0.9950581395348836\n",
      "              precision    recall  f1-score   support\n",
      "\n",
      "           0       1.00      0.99      1.00      1720\n",
      "           1       0.98      1.00      0.99       934\n",
      "\n",
      "    accuracy                           0.99      2654\n",
      "   macro avg       0.99      1.00      0.99      2654\n",
      "weighted avg       0.99      0.99      0.99      2654\n",
      "\n"
     ]
    }
   ],
   "source": [
    "from sklearn.neural_network import MLPClassifier\n",
    "from sklearn.metrics import roc_auc_score\n",
    "mlp = MLPClassifier(solver = 'lbfgs', activation = 'relu',\n",
    "                   hidden_layer_sizes = (100,50,30), \n",
    "                    max_iter = 1000)\n",
    "\n",
    "mlp.fit(X_train, y_train)\n",
    "mlp_pred = mlp.predict(X_test)\n",
    "\n",
    "#Printing out our evaluation metrics\n",
    "print(roc_auc_score(y_test, mlp_pred))\n",
    "print(classification_report(y_test, mlp_pred))"
   ]
  },
  {
   "cell_type": "code",
   "execution_count": 127,
   "id": "f900d86b",
   "metadata": {},
   "outputs": [
    {
     "data": {
      "text/plain": [
       "array([[1703,    0],\n",
       "       [  17,  934]], dtype=int64)"
      ]
     },
     "execution_count": 127,
     "metadata": {},
     "output_type": "execute_result"
    }
   ],
   "source": [
    "from sklearn.metrics import confusion_matrix\n",
    "confusion_matrix(mlp_pred,y_test)"
   ]
  },
  {
   "cell_type": "code",
   "execution_count": 128,
   "id": "f59bf8e8",
   "metadata": {},
   "outputs": [
    {
     "name": "stdout",
     "output_type": "stream",
     "text": [
      "0.5\n",
      "              precision    recall  f1-score   support\n",
      "\n",
      "           0       0.65      1.00      0.79      1720\n",
      "           1       0.00      0.00      0.00       934\n",
      "\n",
      "    accuracy                           0.65      2654\n",
      "   macro avg       0.32      0.50      0.39      2654\n",
      "weighted avg       0.42      0.65      0.51      2654\n",
      "\n",
      "[[1720  934]\n",
      " [   0    0]]\n",
      "0.9953488372093023\n",
      "              precision    recall  f1-score   support\n",
      "\n",
      "           0       1.00      0.99      1.00      1720\n",
      "           1       0.98      1.00      0.99       934\n",
      "\n",
      "    accuracy                           0.99      2654\n",
      "   macro avg       0.99      1.00      0.99      2654\n",
      "weighted avg       0.99      0.99      0.99      2654\n",
      "\n",
      "[[1704    0]\n",
      " [  16  934]]\n",
      "0.9962209302325582\n",
      "              precision    recall  f1-score   support\n",
      "\n",
      "           0       1.00      0.99      1.00      1720\n",
      "           1       0.99      1.00      0.99       934\n",
      "\n",
      "    accuracy                           1.00      2654\n",
      "   macro avg       0.99      1.00      0.99      2654\n",
      "weighted avg       1.00      1.00      1.00      2654\n",
      "\n",
      "[[1707    0]\n",
      " [  13  934]]\n",
      "0.5\n",
      "              precision    recall  f1-score   support\n",
      "\n",
      "           0       0.65      1.00      0.79      1720\n",
      "           1       0.00      0.00      0.00       934\n",
      "\n",
      "    accuracy                           0.65      2654\n",
      "   macro avg       0.32      0.50      0.39      2654\n",
      "weighted avg       0.42      0.65      0.51      2654\n",
      "\n",
      "[[1720  934]\n",
      " [   0    0]]\n",
      "0.8970718589711667\n",
      "              precision    recall  f1-score   support\n",
      "\n",
      "           0       0.92      0.96      0.94      1720\n",
      "           1       0.91      0.84      0.87       934\n",
      "\n",
      "    accuracy                           0.91      2654\n",
      "   macro avg       0.91      0.90      0.90      2654\n",
      "weighted avg       0.91      0.91      0.91      2654\n",
      "\n",
      "[[1644  151]\n",
      " [  76  783]]\n",
      "0.9956395348837209\n",
      "              precision    recall  f1-score   support\n",
      "\n",
      "           0       1.00      0.99      1.00      1720\n",
      "           1       0.98      1.00      0.99       934\n",
      "\n",
      "    accuracy                           0.99      2654\n",
      "   macro avg       0.99      1.00      0.99      2654\n",
      "weighted avg       0.99      0.99      0.99      2654\n",
      "\n",
      "[[1705    0]\n",
      " [  15  934]]\n",
      "0.8943348189831184\n",
      "              precision    recall  f1-score   support\n",
      "\n",
      "           0       0.91      0.96      0.94      1720\n",
      "           1       0.92      0.83      0.87       934\n",
      "\n",
      "    accuracy                           0.91      2654\n",
      "   macro avg       0.92      0.89      0.90      2654\n",
      "weighted avg       0.91      0.91      0.91      2654\n",
      "\n",
      "[[1653  161]\n",
      " [  67  773]]\n",
      "0.9896730740500971\n",
      "              precision    recall  f1-score   support\n",
      "\n",
      "           0       1.00      0.98      0.99      1720\n",
      "           1       0.97      1.00      0.98       934\n",
      "\n",
      "    accuracy                           0.99      2654\n",
      "   macro avg       0.98      0.99      0.99      2654\n",
      "weighted avg       0.99      0.99      0.99      2654\n",
      "\n",
      "[[1690    3]\n",
      " [  30  931]]\n",
      "0.9991279069767443\n",
      "              precision    recall  f1-score   support\n",
      "\n",
      "           0       1.00      1.00      1.00      1720\n",
      "           1       1.00      1.00      1.00       934\n",
      "\n",
      "    accuracy                           1.00      2654\n",
      "   macro avg       1.00      1.00      1.00      2654\n",
      "weighted avg       1.00      1.00      1.00      2654\n",
      "\n",
      "[[1717    0]\n",
      " [   3  934]]\n"
     ]
    }
   ],
   "source": [
    "solver_list = ['lbfgs', 'sgd', 'adam']\n",
    "act_list = ['logistic', 'tanh', 'relu']\n",
    "for s in solver_list:\n",
    "    for a in act_list:\n",
    "        mlp = MLPClassifier(solver = s, activation = a,\n",
    "                   hidden_layer_sizes = (100,50,30), \n",
    "                    max_iter = 1000)\n",
    "        \n",
    "        mlp.fit(X_train, y_train)\n",
    "        mlp_pred = mlp.predict(X_test)\n",
    "        print(roc_auc_score(y_test, mlp_pred))\n",
    "        print(classification_report(y_test, mlp_pred))\n",
    "        print(confusion_matrix(mlp_pred,y_test))"
   ]
  },
  {
   "cell_type": "markdown",
   "id": "82ecabc0",
   "metadata": {},
   "source": [
    "## 3.3. LogisticRegression"
   ]
  },
  {
   "cell_type": "code",
   "execution_count": 129,
   "id": "8bd9e408",
   "metadata": {},
   "outputs": [],
   "source": [
    "jobs_train, jobs_test= train_test_split(jobs_text, test_size=0.1, random_state=101)"
   ]
  },
  {
   "cell_type": "code",
   "execution_count": 130,
   "id": "d67e62db",
   "metadata": {},
   "outputs": [],
   "source": [
    "y_train=jobs_train[\"fraudulent\"].array\n",
    "y_test=jobs_test[\"fraudulent\"].array"
   ]
  },
  {
   "cell_type": "code",
   "execution_count": 131,
   "id": "f3072177",
   "metadata": {},
   "outputs": [],
   "source": [
    "jobs_train = jobs_train.drop(columns = ['fraudulent'])\n",
    "jobs_test = jobs_test.drop(columns = ['fraudulent'])"
   ]
  },
  {
   "cell_type": "code",
   "execution_count": 132,
   "id": "57486d90",
   "metadata": {},
   "outputs": [],
   "source": [
    "from sklearn.feature_extraction.text import CountVectorizer\n",
    "\n",
    "vectorizer = CountVectorizer()\n",
    "vectorizer.fit(jobs_train[\"text\"].fillna('').array)\n",
    "X_train = vectorizer.transform(jobs_train[\"text\"].fillna('').array)\n",
    "X_test  = vectorizer.transform(jobs_test[\"text\"].fillna('').array)"
   ]
  },
  {
   "cell_type": "code",
   "execution_count": 133,
   "id": "14d80403",
   "metadata": {},
   "outputs": [],
   "source": [
    "from sklearn.linear_model import LogisticRegression\n",
    "\n",
    "classifier = LogisticRegression(multi_class='ovr')\n",
    "classifier.fit(X_train, y_train)\n",
    "y_pred = classifier.predict(X_test)"
   ]
  },
  {
   "cell_type": "code",
   "execution_count": 134,
   "id": "c9592508",
   "metadata": {},
   "outputs": [
    {
     "data": {
      "text/plain": [
       "array([[1702,    0],\n",
       "       [  18,  934]], dtype=int64)"
      ]
     },
     "execution_count": 134,
     "metadata": {},
     "output_type": "execute_result"
    }
   ],
   "source": [
    "confusion_matrix(y_pred,y_test)"
   ]
  },
  {
   "cell_type": "code",
   "execution_count": 135,
   "id": "c96f5d80",
   "metadata": {},
   "outputs": [
    {
     "data": {
      "text/plain": [
       "0.9947674418604652"
      ]
     },
     "execution_count": 135,
     "metadata": {},
     "output_type": "execute_result"
    }
   ],
   "source": [
    "roc_auc_score(y_test, y_pred)"
   ]
  },
  {
   "cell_type": "code",
   "execution_count": 138,
   "id": "2a78786f",
   "metadata": {},
   "outputs": [
    {
     "name": "stdout",
     "output_type": "stream",
     "text": [
      "[[1702    0]\n",
      " [  18  934]]\n",
      "0.9947674418604652\n",
      "\n",
      "[[1702    0]\n",
      " [  18  934]]\n",
      "0.9947674418604652\n",
      "\n",
      "[[1702    0]\n",
      " [  18  934]]\n",
      "0.9947674418604652\n",
      "\n",
      "[[1683   15]\n",
      " [  37  919]]\n",
      "0.9812142074597879\n",
      "\n",
      "[[1676   25]\n",
      " [  44  909]]\n",
      "0.9738260046810417\n",
      "\n"
     ]
    }
   ],
   "source": [
    "solver_choice = ['lbfgs', 'liblinear', 'newton-cg', 'sag', 'saga']\n",
    "for s in solver_choice:\n",
    "    classifier = LogisticRegression(multi_class='ovr', solver = s)\n",
    "    classifier.fit(X_train, y_train)\n",
    "    y_pred = classifier.predict(X_test)\n",
    "    print(confusion_matrix(y_pred, y_test))\n",
    "    print(roc_auc_score(y_test, y_pred))\n",
    "    print('')"
   ]
  },
  {
   "cell_type": "markdown",
   "id": "f4e7f5e0",
   "metadata": {},
   "source": [
    "# Comparing decision tree results by oversampling ratio"
   ]
  },
  {
   "cell_type": "code",
   "execution_count": 142,
   "id": "81b4fbdd",
   "metadata": {},
   "outputs": [
    {
     "data": {
      "text/plain": [
       "Text(0.5, 0, 'Oversampling ratio')"
      ]
     },
     "execution_count": 142,
     "metadata": {},
     "output_type": "execute_result"
    },
    {
     "data": {
      "image/png": "[encoded data removed]",
      "text/plain": [
       "<Figure size 432x288 with 1 Axes>"
      ]
     },
     "metadata": {
      "needs_background": "light"
     },
     "output_type": "display_data"
    }
   ],
   "source": [
    "results = []\n",
    "for i in range(20):\n",
    "    is_fraud = jobs['fraudulent'] == 1\n",
    "    df_try = jobs[is_fraud]\n",
    "    jobs_over=jobs\n",
    "    jobs_over=jobs_over.append([df_try]*i,ignore_index=True)\n",
    "    \n",
    "    jobs_last = jobs_over.drop(columns = ['job_id','company_profile', 'description', 'benefits', 'requirements','fraudulent'])\n",
    "    jobs_last.head()\n",
    "    X=np.zeros((len(jobs_last),len(jobs_last.columns)))\n",
    "    for j in range(len(jobs_last.columns)):\n",
    "        le = preprocessing.LabelEncoder()\n",
    "        # Converting string labels into numbers.\n",
    "        Xoszlop=le.fit_transform(jobs_last[jobs_last.columns[j]])\n",
    "        X[:,j]=Xoszlop\n",
    "        \n",
    "    y = jobs_over.fraudulent.values\n",
    "    y = y.reshape(-1,1)\n",
    "    X_train, X_test, y_train, y_test = train_test_split(X, y, test_size= 0.1, random_state= 0)\n",
    "    clf = tree.DecisionTreeClassifier(criterion=\"gini\", max_depth=10)\n",
    "    clf = clf.fit(X_train, y_train)\n",
    "    y_pred = clf.predict(X_test)\n",
    "    results.append(metrics.accuracy_score(y_test, y_pred))\n",
    "    \n",
    "plt.plot(results, 'bo')\n",
    "plt.ylabel('Accuracy score')\n",
    "plt.xlabel('Oversampling size')\n",
    "plt.title('Decision tree with gini')"
   ]
  },
  {
   "cell_type": "code",
   "execution_count": 143,
   "id": "c634d5bd",
   "metadata": {},
   "outputs": [
    {
     "data": {
      "text/plain": [
       "Text(0.5, 1.0, 'Decision tree with log_loss')"
      ]
     },
     "execution_count": 143,
     "metadata": {},
     "output_type": "execute_result"
    },
    {
     "data": {
      "image/png": "[encoded data removed]",
      "text/plain": [
       "<Figure size 432x288 with 1 Axes>"
      ]
     },
     "metadata": {
      "needs_background": "light"
     },
     "output_type": "display_data"
    }
   ],
   "source": [
    "results = []\n",
    "for i in range(20):\n",
    "    is_fraud = jobs['fraudulent'] == 1\n",
    "    df_try = jobs[is_fraud]\n",
    "    jobs_over=jobs\n",
    "    jobs_over=jobs_over.append([df_try]*i,ignore_index=True)\n",
    "    \n",
    "    jobs_last = jobs_over.drop(columns = ['job_id','company_profile', 'description', 'benefits', 'requirements','fraudulent'])\n",
    "    jobs_last.head()\n",
    "    X=np.zeros((len(jobs_last),len(jobs_last.columns)))\n",
    "    for j in range(len(jobs_last.columns)):\n",
    "        le = preprocessing.LabelEncoder()\n",
    "        # Converting string labels into numbers.\n",
    "        Xoszlop=le.fit_transform(jobs_last[jobs_last.columns[j]])\n",
    "        X[:,j]=Xoszlop\n",
    "        \n",
    "    y = jobs_over.fraudulent.values\n",
    "    y = y.reshape(-1,1)\n",
    "    X_train, X_test, y_train, y_test = train_test_split(X, y, test_size= 0.1, random_state= 0)\n",
    "    clf = tree.DecisionTreeClassifier(criterion=\"log_loss\", max_depth=10)\n",
    "    clf = clf.fit(X_train, y_train)\n",
    "    y_pred = clf.predict(X_test)\n",
    "    results.append(metrics.accuracy_score(y_test, y_pred))\n",
    "    \n",
    "plt.plot(results, 'bo')\n",
    "plt.ylabel('Accuracy score')\n",
    "plt.xlabel('Oversampling size')\n",
    "plt.title('Decision tree with log_loss')"
   ]
  },
  {
   "cell_type": "code",
   "execution_count": 144,
   "id": "ec48bcad",
   "metadata": {},
   "outputs": [
    {
     "data": {
      "text/plain": [
       "Text(0.5, 1.0, 'Decision tree with entropy')"
      ]
     },
     "execution_count": 144,
     "metadata": {},
     "output_type": "execute_result"
    },
    {
     "data": {
      "image/png": "[encoded data removed]",
      "text/plain": [
       "<Figure size 432x288 with 1 Axes>"
      ]
     },
     "metadata": {
      "needs_background": "light"
     },
     "output_type": "display_data"
    }
   ],
   "source": [
    "results = []\n",
    "for i in range(20):\n",
    "    is_fraud = jobs['fraudulent'] == 1\n",
    "    df_try = jobs[is_fraud]\n",
    "    jobs_over=jobs\n",
    "    jobs_over=jobs_over.append([df_try]*i,ignore_index=True)\n",
    "    \n",
    "    jobs_last = jobs_over.drop(columns = ['job_id','company_profile', 'description', 'benefits', 'requirements','fraudulent'])\n",
    "    jobs_last.head()\n",
    "    X=np.zeros((len(jobs_last),len(jobs_last.columns)))\n",
    "    for j in range(len(jobs_last.columns)):\n",
    "        le = preprocessing.LabelEncoder()\n",
    "        # Converting string labels into numbers.\n",
    "        Xoszlop=le.fit_transform(jobs_last[jobs_last.columns[j]])\n",
    "        X[:,j]=Xoszlop\n",
    "        \n",
    "    y = jobs_over.fraudulent.values\n",
    "    y = y.reshape(-1,1)\n",
    "    X_train, X_test, y_train, y_test = train_test_split(X, y, test_size= 0.1, random_state= 0)\n",
    "    clf = tree.DecisionTreeClassifier(criterion=\"entropy\", max_depth=10)\n",
    "    clf = clf.fit(X_train, y_train)\n",
    "    y_pred = clf.predict(X_test)\n",
    "    results.append(metrics.accuracy_score(y_test, y_pred))\n",
    "    \n",
    "plt.plot(results, 'bo')\n",
    "plt.ylabel('Accuracy score')\n",
    "plt.xlabel('Oversampling size')\n",
    "plt.title('Decision tree with entropy')"
   ]
  },
  {
   "cell_type": "markdown",
   "id": "a5098cbe",
   "metadata": {},
   "source": [
    "# Eddig van"
   ]
  },
  {
   "cell_type": "markdown",
   "id": "4dbeb4df",
   "metadata": {},
   "source": [
    "Az ezután levőben csak lemásoltam egy kódot (https://www.kaggle.com/code/mesutbilgin/real-fake-job-posting-prediciton-bidirtnl-lstm). De valamiért ez nem ad jó eredményt."
   ]
  },
  {
   "cell_type": "code",
   "execution_count": 73,
   "id": "26b12df2",
   "metadata": {},
   "outputs": [],
   "source": [
    "text=list(jobs_text['text'])\n",
    "y = jobs_text.fraudulent.values\n",
    "y = y.reshape(-1,1)"
   ]
  },
  {
   "cell_type": "code",
   "execution_count": 74,
   "id": "f5ab9a6f",
   "metadata": {},
   "outputs": [],
   "source": [
    "X_texttrain, X_texttest, y_train, y_test = train_test_split(text, y, test_size= 0.1, random_state= 0)"
   ]
  },
  {
   "cell_type": "code",
   "execution_count": 64,
   "id": "44b5cc28",
   "metadata": {},
   "outputs": [
    {
     "name": "stdout",
     "output_type": "stream",
     "text": [
      "Model: \"sequential_1\"\n",
      "_________________________________________________________________\n",
      " Layer (type)                Output Shape              Param #   \n",
      "=================================================================\n",
      " embedding_1 (Embedding)     (None, 2577, 40)          400000    \n",
      "                                                                 \n",
      " bidirectional_1 (Bidirectio  (None, 40)               9760      \n",
      " nal)                                                            \n",
      "                                                                 \n",
      " dense_1 (Dense)             (None, 1)                 41        \n",
      "                                                                 \n",
      "=================================================================\n",
      "Total params: 409,801\n",
      "Trainable params: 409,801\n",
      "Non-trainable params: 0\n",
      "_________________________________________________________________\n",
      "None\n"
     ]
    }
   ],
   "source": [
    "sent_length=jobs_text['word count'].max()\n",
    "embedding_vector_features=40\n",
    "model1=Sequential()\n",
    "model1.add(Embedding(10000,embedding_vector_features,input_length=len(embedded_docs [0])))\n",
    "model1.add(Bidirectional(LSTM(20 )))\n",
    "model1.add(Dense(1,activation='sigmoid'))\n",
    "model1.compile(loss='binary_crossentropy',optimizer='adam',metrics=['accuracy'])\n",
    "print(model1.summary())"
   ]
  },
  {
   "cell_type": "code",
   "execution_count": 65,
   "id": "ee108993",
   "metadata": {},
   "outputs": [],
   "source": [
    "model1.compile(optimizer = 'adam', loss = 'binary_crossentropy', metrics = ['accuracy'])"
   ]
  },
  {
   "cell_type": "code",
   "execution_count": 66,
   "id": "b1fb09d1",
   "metadata": {},
   "outputs": [],
   "source": [
    "X_train=np.array(X_train)\n",
    "X_test=np.array(X_test)\n",
    "y_train=np.array(y_train)\n",
    "y_test=np.array(y_test)"
   ]
  },
  {
   "cell_type": "code",
   "execution_count": 67,
   "id": "ed90875c",
   "metadata": {},
   "outputs": [
    {
     "name": "stdout",
     "output_type": "stream",
     "text": [
      "Epoch 1/5\n",
      " 18/471 [>.............................] - ETA: 20:37 - loss: 0.6897 - accuracy: 0.5312"
     ]
    },
    {
     "ename": "KeyboardInterrupt",
     "evalue": "",
     "output_type": "error",
     "traceback": [
      "\u001b[1;31m---------------------------------------------------------------------------\u001b[0m",
      "\u001b[1;31mKeyboardInterrupt\u001b[0m                         Traceback (most recent call last)",
      "\u001b[1;32m~\\AppData\\Local\\Temp\\ipykernel_18776\\4181772627.py\u001b[0m in \u001b[0;36m<module>\u001b[1;34m\u001b[0m\n\u001b[0;32m      2\u001b[0m \u001b[1;33m\u001b[0m\u001b[0m\n\u001b[0;32m      3\u001b[0m \u001b[0mcp\u001b[0m \u001b[1;33m=\u001b[0m \u001b[0mModelCheckpoint\u001b[0m\u001b[1;33m(\u001b[0m\u001b[1;34m\"./bidirectional_model/\"\u001b[0m \u001b[1;33m,\u001b[0m\u001b[0msave_best_only\u001b[0m \u001b[1;33m=\u001b[0m \u001b[1;32mTrue\u001b[0m\u001b[1;33m)\u001b[0m\u001b[1;31m## creaitng model checkpoint\u001b[0m\u001b[1;33m\u001b[0m\u001b[1;33m\u001b[0m\u001b[0m\n\u001b[1;32m----> 4\u001b[1;33m \u001b[0mhist\u001b[0m \u001b[1;33m=\u001b[0m \u001b[0mmodel1\u001b[0m\u001b[1;33m.\u001b[0m\u001b[0mfit\u001b[0m\u001b[1;33m(\u001b[0m\u001b[0mX_train\u001b[0m\u001b[1;33m,\u001b[0m \u001b[0my_train\u001b[0m\u001b[1;33m,\u001b[0m \u001b[0mepochs\u001b[0m \u001b[1;33m=\u001b[0m \u001b[1;36m5\u001b[0m\u001b[1;33m,\u001b[0m \u001b[0mbatch_size\u001b[0m \u001b[1;33m=\u001b[0m \u001b[1;36m64\u001b[0m\u001b[1;33m,\u001b[0m  \u001b[0mcallbacks\u001b[0m \u001b[1;33m=\u001b[0m \u001b[0mcp\u001b[0m\u001b[1;33m,\u001b[0m \u001b[0mvalidation_data\u001b[0m\u001b[1;33m=\u001b[0m\u001b[1;33m(\u001b[0m\u001b[0mX_test\u001b[0m\u001b[1;33m,\u001b[0m\u001b[0my_test\u001b[0m\u001b[1;33m)\u001b[0m\u001b[1;33m)\u001b[0m\u001b[1;33m\u001b[0m\u001b[1;33m\u001b[0m\u001b[0m\n\u001b[0m",
      "\u001b[1;32m~\\anaconda3\\lib\\site-packages\\keras\\utils\\traceback_utils.py\u001b[0m in \u001b[0;36merror_handler\u001b[1;34m(*args, **kwargs)\u001b[0m\n\u001b[0;32m     62\u001b[0m     \u001b[0mfiltered_tb\u001b[0m \u001b[1;33m=\u001b[0m \u001b[1;32mNone\u001b[0m\u001b[1;33m\u001b[0m\u001b[1;33m\u001b[0m\u001b[0m\n\u001b[0;32m     63\u001b[0m     \u001b[1;32mtry\u001b[0m\u001b[1;33m:\u001b[0m\u001b[1;33m\u001b[0m\u001b[1;33m\u001b[0m\u001b[0m\n\u001b[1;32m---> 64\u001b[1;33m       \u001b[1;32mreturn\u001b[0m \u001b[0mfn\u001b[0m\u001b[1;33m(\u001b[0m\u001b[1;33m*\u001b[0m\u001b[0margs\u001b[0m\u001b[1;33m,\u001b[0m \u001b[1;33m**\u001b[0m\u001b[0mkwargs\u001b[0m\u001b[1;33m)\u001b[0m\u001b[1;33m\u001b[0m\u001b[1;33m\u001b[0m\u001b[0m\n\u001b[0m\u001b[0;32m     65\u001b[0m     \u001b[1;32mexcept\u001b[0m \u001b[0mException\u001b[0m \u001b[1;32mas\u001b[0m \u001b[0me\u001b[0m\u001b[1;33m:\u001b[0m  \u001b[1;31m# pylint: disable=broad-except\u001b[0m\u001b[1;33m\u001b[0m\u001b[1;33m\u001b[0m\u001b[0m\n\u001b[0;32m     66\u001b[0m       \u001b[0mfiltered_tb\u001b[0m \u001b[1;33m=\u001b[0m \u001b[0m_process_traceback_frames\u001b[0m\u001b[1;33m(\u001b[0m\u001b[0me\u001b[0m\u001b[1;33m.\u001b[0m\u001b[0m__traceback__\u001b[0m\u001b[1;33m)\u001b[0m\u001b[1;33m\u001b[0m\u001b[1;33m\u001b[0m\u001b[0m\n",
      "\u001b[1;32m~\\anaconda3\\lib\\site-packages\\keras\\engine\\training.py\u001b[0m in \u001b[0;36mfit\u001b[1;34m(self, x, y, batch_size, epochs, verbose, callbacks, validation_split, validation_data, shuffle, class_weight, sample_weight, initial_epoch, steps_per_epoch, validation_steps, validation_batch_size, validation_freq, max_queue_size, workers, use_multiprocessing)\u001b[0m\n\u001b[0;32m   1407\u001b[0m                 _r=1):\n\u001b[0;32m   1408\u001b[0m               \u001b[0mcallbacks\u001b[0m\u001b[1;33m.\u001b[0m\u001b[0mon_train_batch_begin\u001b[0m\u001b[1;33m(\u001b[0m\u001b[0mstep\u001b[0m\u001b[1;33m)\u001b[0m\u001b[1;33m\u001b[0m\u001b[1;33m\u001b[0m\u001b[0m\n\u001b[1;32m-> 1409\u001b[1;33m               \u001b[0mtmp_logs\u001b[0m \u001b[1;33m=\u001b[0m \u001b[0mself\u001b[0m\u001b[1;33m.\u001b[0m\u001b[0mtrain_function\u001b[0m\u001b[1;33m(\u001b[0m\u001b[0miterator\u001b[0m\u001b[1;33m)\u001b[0m\u001b[1;33m\u001b[0m\u001b[1;33m\u001b[0m\u001b[0m\n\u001b[0m\u001b[0;32m   1410\u001b[0m               \u001b[1;32mif\u001b[0m \u001b[0mdata_handler\u001b[0m\u001b[1;33m.\u001b[0m\u001b[0mshould_sync\u001b[0m\u001b[1;33m:\u001b[0m\u001b[1;33m\u001b[0m\u001b[1;33m\u001b[0m\u001b[0m\n\u001b[0;32m   1411\u001b[0m                 \u001b[0mcontext\u001b[0m\u001b[1;33m.\u001b[0m\u001b[0masync_wait\u001b[0m\u001b[1;33m(\u001b[0m\u001b[1;33m)\u001b[0m\u001b[1;33m\u001b[0m\u001b[1;33m\u001b[0m\u001b[0m\n",
      "\u001b[1;32m~\\anaconda3\\lib\\site-packages\\tensorflow\\python\\util\\traceback_utils.py\u001b[0m in \u001b[0;36merror_handler\u001b[1;34m(*args, **kwargs)\u001b[0m\n\u001b[0;32m    148\u001b[0m     \u001b[0mfiltered_tb\u001b[0m \u001b[1;33m=\u001b[0m \u001b[1;32mNone\u001b[0m\u001b[1;33m\u001b[0m\u001b[1;33m\u001b[0m\u001b[0m\n\u001b[0;32m    149\u001b[0m     \u001b[1;32mtry\u001b[0m\u001b[1;33m:\u001b[0m\u001b[1;33m\u001b[0m\u001b[1;33m\u001b[0m\u001b[0m\n\u001b[1;32m--> 150\u001b[1;33m       \u001b[1;32mreturn\u001b[0m \u001b[0mfn\u001b[0m\u001b[1;33m(\u001b[0m\u001b[1;33m*\u001b[0m\u001b[0margs\u001b[0m\u001b[1;33m,\u001b[0m \u001b[1;33m**\u001b[0m\u001b[0mkwargs\u001b[0m\u001b[1;33m)\u001b[0m\u001b[1;33m\u001b[0m\u001b[1;33m\u001b[0m\u001b[0m\n\u001b[0m\u001b[0;32m    151\u001b[0m     \u001b[1;32mexcept\u001b[0m \u001b[0mException\u001b[0m \u001b[1;32mas\u001b[0m \u001b[0me\u001b[0m\u001b[1;33m:\u001b[0m\u001b[1;33m\u001b[0m\u001b[1;33m\u001b[0m\u001b[0m\n\u001b[0;32m    152\u001b[0m       \u001b[0mfiltered_tb\u001b[0m \u001b[1;33m=\u001b[0m \u001b[0m_process_traceback_frames\u001b[0m\u001b[1;33m(\u001b[0m\u001b[0me\u001b[0m\u001b[1;33m.\u001b[0m\u001b[0m__traceback__\u001b[0m\u001b[1;33m)\u001b[0m\u001b[1;33m\u001b[0m\u001b[1;33m\u001b[0m\u001b[0m\n",
      "\u001b[1;32m~\\anaconda3\\lib\\site-packages\\tensorflow\\python\\eager\\def_function.py\u001b[0m in \u001b[0;36m__call__\u001b[1;34m(self, *args, **kwds)\u001b[0m\n\u001b[0;32m    913\u001b[0m \u001b[1;33m\u001b[0m\u001b[0m\n\u001b[0;32m    914\u001b[0m       \u001b[1;32mwith\u001b[0m \u001b[0mOptionalXlaContext\u001b[0m\u001b[1;33m(\u001b[0m\u001b[0mself\u001b[0m\u001b[1;33m.\u001b[0m\u001b[0m_jit_compile\u001b[0m\u001b[1;33m)\u001b[0m\u001b[1;33m:\u001b[0m\u001b[1;33m\u001b[0m\u001b[1;33m\u001b[0m\u001b[0m\n\u001b[1;32m--> 915\u001b[1;33m         \u001b[0mresult\u001b[0m \u001b[1;33m=\u001b[0m \u001b[0mself\u001b[0m\u001b[1;33m.\u001b[0m\u001b[0m_call\u001b[0m\u001b[1;33m(\u001b[0m\u001b[1;33m*\u001b[0m\u001b[0margs\u001b[0m\u001b[1;33m,\u001b[0m \u001b[1;33m**\u001b[0m\u001b[0mkwds\u001b[0m\u001b[1;33m)\u001b[0m\u001b[1;33m\u001b[0m\u001b[1;33m\u001b[0m\u001b[0m\n\u001b[0m\u001b[0;32m    916\u001b[0m \u001b[1;33m\u001b[0m\u001b[0m\n\u001b[0;32m    917\u001b[0m       \u001b[0mnew_tracing_count\u001b[0m \u001b[1;33m=\u001b[0m \u001b[0mself\u001b[0m\u001b[1;33m.\u001b[0m\u001b[0mexperimental_get_tracing_count\u001b[0m\u001b[1;33m(\u001b[0m\u001b[1;33m)\u001b[0m\u001b[1;33m\u001b[0m\u001b[1;33m\u001b[0m\u001b[0m\n",
      "\u001b[1;32m~\\anaconda3\\lib\\site-packages\\tensorflow\\python\\eager\\def_function.py\u001b[0m in \u001b[0;36m_call\u001b[1;34m(self, *args, **kwds)\u001b[0m\n\u001b[0;32m    945\u001b[0m       \u001b[1;31m# In this case we have created variables on the first call, so we run the\u001b[0m\u001b[1;33m\u001b[0m\u001b[1;33m\u001b[0m\u001b[0m\n\u001b[0;32m    946\u001b[0m       \u001b[1;31m# defunned version which is guaranteed to never create variables.\u001b[0m\u001b[1;33m\u001b[0m\u001b[1;33m\u001b[0m\u001b[0m\n\u001b[1;32m--> 947\u001b[1;33m       \u001b[1;32mreturn\u001b[0m \u001b[0mself\u001b[0m\u001b[1;33m.\u001b[0m\u001b[0m_stateless_fn\u001b[0m\u001b[1;33m(\u001b[0m\u001b[1;33m*\u001b[0m\u001b[0margs\u001b[0m\u001b[1;33m,\u001b[0m \u001b[1;33m**\u001b[0m\u001b[0mkwds\u001b[0m\u001b[1;33m)\u001b[0m  \u001b[1;31m# pylint: disable=not-callable\u001b[0m\u001b[1;33m\u001b[0m\u001b[1;33m\u001b[0m\u001b[0m\n\u001b[0m\u001b[0;32m    948\u001b[0m     \u001b[1;32melif\u001b[0m \u001b[0mself\u001b[0m\u001b[1;33m.\u001b[0m\u001b[0m_stateful_fn\u001b[0m \u001b[1;32mis\u001b[0m \u001b[1;32mnot\u001b[0m \u001b[1;32mNone\u001b[0m\u001b[1;33m:\u001b[0m\u001b[1;33m\u001b[0m\u001b[1;33m\u001b[0m\u001b[0m\n\u001b[0;32m    949\u001b[0m       \u001b[1;31m# Release the lock early so that multiple threads can perform the call\u001b[0m\u001b[1;33m\u001b[0m\u001b[1;33m\u001b[0m\u001b[0m\n",
      "\u001b[1;32m~\\anaconda3\\lib\\site-packages\\tensorflow\\python\\eager\\function.py\u001b[0m in \u001b[0;36m__call__\u001b[1;34m(self, *args, **kwargs)\u001b[0m\n\u001b[0;32m   2451\u001b[0m       (graph_function,\n\u001b[0;32m   2452\u001b[0m        filtered_flat_args) = self._maybe_define_function(args, kwargs)\n\u001b[1;32m-> 2453\u001b[1;33m     return graph_function._call_flat(\n\u001b[0m\u001b[0;32m   2454\u001b[0m         filtered_flat_args, captured_inputs=graph_function.captured_inputs)  # pylint: disable=protected-access\n\u001b[0;32m   2455\u001b[0m \u001b[1;33m\u001b[0m\u001b[0m\n",
      "\u001b[1;32m~\\anaconda3\\lib\\site-packages\\tensorflow\\python\\eager\\function.py\u001b[0m in \u001b[0;36m_call_flat\u001b[1;34m(self, args, captured_inputs, cancellation_manager)\u001b[0m\n\u001b[0;32m   1858\u001b[0m         and executing_eagerly):\n\u001b[0;32m   1859\u001b[0m       \u001b[1;31m# No tape is watching; skip to running the function.\u001b[0m\u001b[1;33m\u001b[0m\u001b[1;33m\u001b[0m\u001b[0m\n\u001b[1;32m-> 1860\u001b[1;33m       return self._build_call_outputs(self._inference_function.call(\n\u001b[0m\u001b[0;32m   1861\u001b[0m           ctx, args, cancellation_manager=cancellation_manager))\n\u001b[0;32m   1862\u001b[0m     forward_backward = self._select_forward_and_backward_functions(\n",
      "\u001b[1;32m~\\anaconda3\\lib\\site-packages\\tensorflow\\python\\eager\\function.py\u001b[0m in \u001b[0;36mcall\u001b[1;34m(self, ctx, args, cancellation_manager)\u001b[0m\n\u001b[0;32m    495\u001b[0m       \u001b[1;32mwith\u001b[0m \u001b[0m_InterpolateFunctionError\u001b[0m\u001b[1;33m(\u001b[0m\u001b[0mself\u001b[0m\u001b[1;33m)\u001b[0m\u001b[1;33m:\u001b[0m\u001b[1;33m\u001b[0m\u001b[1;33m\u001b[0m\u001b[0m\n\u001b[0;32m    496\u001b[0m         \u001b[1;32mif\u001b[0m \u001b[0mcancellation_manager\u001b[0m \u001b[1;32mis\u001b[0m \u001b[1;32mNone\u001b[0m\u001b[1;33m:\u001b[0m\u001b[1;33m\u001b[0m\u001b[1;33m\u001b[0m\u001b[0m\n\u001b[1;32m--> 497\u001b[1;33m           outputs = execute.execute(\n\u001b[0m\u001b[0;32m    498\u001b[0m               \u001b[0mstr\u001b[0m\u001b[1;33m(\u001b[0m\u001b[0mself\u001b[0m\u001b[1;33m.\u001b[0m\u001b[0msignature\u001b[0m\u001b[1;33m.\u001b[0m\u001b[0mname\u001b[0m\u001b[1;33m)\u001b[0m\u001b[1;33m,\u001b[0m\u001b[1;33m\u001b[0m\u001b[1;33m\u001b[0m\u001b[0m\n\u001b[0;32m    499\u001b[0m               \u001b[0mnum_outputs\u001b[0m\u001b[1;33m=\u001b[0m\u001b[0mself\u001b[0m\u001b[1;33m.\u001b[0m\u001b[0m_num_outputs\u001b[0m\u001b[1;33m,\u001b[0m\u001b[1;33m\u001b[0m\u001b[1;33m\u001b[0m\u001b[0m\n",
      "\u001b[1;32m~\\anaconda3\\lib\\site-packages\\tensorflow\\python\\eager\\execute.py\u001b[0m in \u001b[0;36mquick_execute\u001b[1;34m(op_name, num_outputs, inputs, attrs, ctx, name)\u001b[0m\n\u001b[0;32m     52\u001b[0m   \u001b[1;32mtry\u001b[0m\u001b[1;33m:\u001b[0m\u001b[1;33m\u001b[0m\u001b[1;33m\u001b[0m\u001b[0m\n\u001b[0;32m     53\u001b[0m     \u001b[0mctx\u001b[0m\u001b[1;33m.\u001b[0m\u001b[0mensure_initialized\u001b[0m\u001b[1;33m(\u001b[0m\u001b[1;33m)\u001b[0m\u001b[1;33m\u001b[0m\u001b[1;33m\u001b[0m\u001b[0m\n\u001b[1;32m---> 54\u001b[1;33m     tensors = pywrap_tfe.TFE_Py_Execute(ctx._handle, device_name, op_name,\n\u001b[0m\u001b[0;32m     55\u001b[0m                                         inputs, attrs, num_outputs)\n\u001b[0;32m     56\u001b[0m   \u001b[1;32mexcept\u001b[0m \u001b[0mcore\u001b[0m\u001b[1;33m.\u001b[0m\u001b[0m_NotOkStatusException\u001b[0m \u001b[1;32mas\u001b[0m \u001b[0me\u001b[0m\u001b[1;33m:\u001b[0m\u001b[1;33m\u001b[0m\u001b[1;33m\u001b[0m\u001b[0m\n",
      "\u001b[1;31mKeyboardInterrupt\u001b[0m: "
     ]
    }
   ],
   "source": [
    "from keras.callbacks import EarlyStopping, ModelCheckpoint\n",
    "\n",
    "cp = ModelCheckpoint(\"./bidirectional_model/\" ,save_best_only = True)## creaitng model checkpoint\n",
    "hist = model1.fit(X_train, y_train, epochs = 5, batch_size = 64,  callbacks = cp, validation_data=(X_test,y_test))"
   ]
  },
  {
   "cell_type": "code",
   "execution_count": 75,
   "id": "66c98fed",
   "metadata": {},
   "outputs": [
    {
     "data": {
      "image/png": "[encoded data removed]",
      "text/plain": [
       "<Figure size 640x480 with 1 Axes>"
      ]
     },
     "metadata": {},
     "output_type": "display_data"
    }
   ],
   "source": [
    "plt.plot(hist.history['val_loss'], color='b', label=\"validation loss\")\n",
    "plt.plot(hist.history['loss'], color='red', label=\"loss\")\n",
    "plt.title(\"Model Loss\")\n",
    "plt.xlabel(\"Number of Epochs\")\n",
    "plt.ylabel(\"Loss\")\n",
    "plt.legend()\n",
    "plt.show()"
   ]
  },
  {
   "cell_type": "code",
   "execution_count": 76,
   "id": "5c03e90e",
   "metadata": {},
   "outputs": [
    {
     "data": {
      "image/png": "[encoded data removed]",
      "text/plain": [
       "<Figure size 640x480 with 1 Axes>"
      ]
     },
     "metadata": {},
     "output_type": "display_data"
    }
   ],
   "source": [
    "plt.plot(hist.history['val_accuracy'], color='b', label=\"validation accuracy\")\n",
    "plt.plot(hist.history['accuracy'], color='red', label=\"accuracy\")\n",
    "plt.title(\"Model Accuracy\")\n",
    "plt.xlabel(\"Number of Epochs\")\n",
    "plt.ylabel(\"Loss\")\n",
    "plt.legend()\n",
    "plt.show()"
   ]
  },
  {
   "cell_type": "markdown",
   "id": "95476379",
   "metadata": {},
   "source": [
    "# Adat átalakítás"
   ]
  },
  {
   "cell_type": "markdown",
   "id": "7599ea55",
   "metadata": {},
   "source": [
    "Csak a description oszlopot tartom meg."
   ]
  },
  {
   "cell_type": "code",
   "execution_count": null,
   "id": "7c7fbaa0",
   "metadata": {},
   "outputs": [],
   "source": [
    "jobs_last = jobs.drop(columns = ['job_id','title','location','department', 'telecommuting',\n",
    "                             'salary_range','company_profile','requirements','benefits','employment_type',\n",
    "                             'required_experience','required_education','industry','function','has_company_logo','has_questions'])\n",
    "jobs_last.head()"
   ]
  },
  {
   "cell_type": "code",
   "execution_count": null,
   "id": "0de3c6b9",
   "metadata": {},
   "outputs": [],
   "source": [
    "jobs_last.fillna(\" \", inplace = True)\n",
    "jobs_last['word count'] = [len(i.split(' ')) for i in jobs_last['description']]"
   ]
  },
  {
   "cell_type": "code",
   "execution_count": null,
   "id": "cef0f4f2",
   "metadata": {},
   "outputs": [],
   "source": [
    "jobs_last.head()"
   ]
  },
  {
   "cell_type": "markdown",
   "id": "7d1525a2",
   "metadata": {},
   "source": [
    "Átalakítom a szavak számokká. Minden szó egy sorszámot kap, így minden description egy vektor lesz."
   ]
  },
  {
   "cell_type": "code",
   "execution_count": null,
   "id": "9856d0ee",
   "metadata": {},
   "outputs": [],
   "source": [
    "from tensorflow.keras.preprocessing.text import one_hot, Tokenizer"
   ]
  },
  {
   "cell_type": "code",
   "execution_count": null,
   "id": "4a2084a0",
   "metadata": {},
   "outputs": [],
   "source": [
    "max_features = 10000\n",
    "t = Tokenizer(num_words = max_features)\n",
    "# fit the tokenizer on the documents\n",
    "t.fit_on_texts(list(jobs_last['description']))"
   ]
  },
  {
   "cell_type": "code",
   "execution_count": null,
   "id": "327e1aca",
   "metadata": {},
   "outputs": [],
   "source": [
    "encoded_docs = t.texts_to_sequences(list(jobs_last['description']))"
   ]
  },
  {
   "cell_type": "code",
   "execution_count": null,
   "id": "7c41428a",
   "metadata": {},
   "outputs": [],
   "source": [
    "sent_length = jobs_last['word count'].max()\n",
    "embedded_docs=pad_sequences(encoded_docs,padding='pre',maxlen=sent_length)"
   ]
  },
  {
   "cell_type": "code",
   "execution_count": null,
   "id": "5908d6af",
   "metadata": {},
   "outputs": [],
   "source": [
    "print(embedded_docs)"
   ]
  },
  {
   "cell_type": "code",
   "execution_count": null,
   "id": "a7039c74",
   "metadata": {},
   "outputs": [],
   "source": [
    "y = jobs_last.fraudulent.values\n",
    "y = y.reshape(-1,1)\n",
    "X = np.array(embedded_docs)"
   ]
  },
  {
   "cell_type": "markdown",
   "id": "2f6ff856",
   "metadata": {},
   "source": [
    "# Egyszerű Döntési fa"
   ]
  },
  {
   "cell_type": "code",
   "execution_count": null,
   "id": "79d10b1e",
   "metadata": {},
   "outputs": [],
   "source": [
    "X_train, X_test, y_train, y_test = train_test_split(X, y, test_size= 0.1, random_state= 101)"
   ]
  },
  {
   "cell_type": "code",
   "execution_count": null,
   "id": "fee48a1d",
   "metadata": {},
   "outputs": [],
   "source": [
    "print(\"X_train shape: \",X_train.shape)\n",
    "print(\"X_test shape : \",X_test.shape )\n",
    "print(\"y_train shape: \",y_train.shape)\n",
    "print(\"y_test shape : \",y_test.shape)"
   ]
  },
  {
   "cell_type": "code",
   "execution_count": null,
   "id": "c465f1e4",
   "metadata": {},
   "outputs": [],
   "source": [
    "from sklearn import tree\n",
    "clf = tree.DecisionTreeClassifier(criterion=\"gini\",max_depth=10)\n",
    "clf = clf.fit(X_train, y_train)"
   ]
  },
  {
   "cell_type": "code",
   "execution_count": null,
   "id": "1afaa433",
   "metadata": {},
   "outputs": [],
   "source": [
    "#tree.plot_tree(clf)"
   ]
  },
  {
   "cell_type": "code",
   "execution_count": null,
   "id": "408158a4",
   "metadata": {},
   "outputs": [],
   "source": [
    "y_pred = clf.predict(X_test)"
   ]
  },
  {
   "cell_type": "code",
   "execution_count": null,
   "id": "ab994922",
   "metadata": {},
   "outputs": [],
   "source": [
    "from sklearn import metrics\n",
    "print(\"Accuracy:\",metrics.accuracy_score(y_test, y_pred))"
   ]
  },
  {
   "cell_type": "code",
   "execution_count": null,
   "id": "0cda6c27",
   "metadata": {},
   "outputs": [],
   "source": [
    "# Az előző kézzel.\n",
    "acc=np.zeros((2,2))\n",
    "for i in range(len(X_test)):\n",
    "    out=clf.predict([X_test[i]])\n",
    "    if out==0 and y_test[i]==0:\n",
    "        acc[0,0]=acc[0,0]+1\n",
    "    if out==1 and y_test[i]==0:\n",
    "        acc[1,0]=acc[1,0]+1\n",
    "    if out==0 and y_test[i]==1:\n",
    "        acc[0,1]=acc[0,1]+1\n",
    "    if out==1 and y_test[i]==1:\n",
    "        acc[1,1]=acc[1,1]+1\n",
    "print(acc)"
   ]
  },
  {
   "cell_type": "code",
   "execution_count": null,
   "id": "74a937ad",
   "metadata": {},
   "outputs": [],
   "source": [
    "print(acc[1,1]/sum(acc[:,1]))"
   ]
  },
  {
   "cell_type": "code",
   "execution_count": null,
   "id": "458607a3",
   "metadata": {},
   "outputs": [],
   "source": [
    "depth=np.arange(1,15)\n",
    "acc1=[]\n",
    "for j in range(1,15):\n",
    "    clf = tree.DecisionTreeClassifier(criterion=\"gini\",max_depth=j)\n",
    "    clf = clf.fit(X_train, y_train)\n",
    "    y_pred = clf.predict(X_test)\n",
    "    acc=np.zeros((2,2))\n",
    "    for i in range(len(X_test)):\n",
    "        if y_pred[i]==0 and y_test[i]==0:\n",
    "            acc[0,0]=acc[0,0]+1\n",
    "        if y_pred[i]==1 and y_test[i]==0:\n",
    "            acc[1,0]=acc[1,0]+1\n",
    "        if y_pred[i]==0 and y_test[i]==1:\n",
    "            acc[0,1]=acc[0,1]+1\n",
    "        if y_pred[i]==1 and y_test[i]==1:\n",
    "            acc[1,1]=acc[1,1]+1\n",
    "    acc1.append(acc[1,1]/sum(acc[:,1]))"
   ]
  },
  {
   "cell_type": "code",
   "execution_count": null,
   "id": "40c8e115",
   "metadata": {},
   "outputs": [],
   "source": [
    "import matplotlib.pyplot as plt\n",
    "plt.plot(depth,acc1,'ro')\n",
    "plt.ylabel('fake news ratio')\n",
    "plt.xlabel('Tree depth')"
   ]
  },
  {
   "cell_type": "code",
   "execution_count": null,
   "id": "08faab64",
   "metadata": {},
   "outputs": [],
   "source": [
    "from sklearn import svm\n",
    "clf = svm.SVC(kernel='poly',max_iter=10000)\n",
    "clf = clf.fit(X_train[:600], y_train[:600])"
   ]
  },
  {
   "cell_type": "code",
   "execution_count": null,
   "id": "8619c836",
   "metadata": {},
   "outputs": [],
   "source": [
    "y_pred = clf.predict(X_test)"
   ]
  },
  {
   "cell_type": "code",
   "execution_count": null,
   "id": "e9d90249",
   "metadata": {},
   "outputs": [],
   "source": [
    "# Az előző kézzel.\n",
    "acc=np.zeros((2,2))\n",
    "for i in range(len(X_test)):\n",
    "    out=clf.predict([X_test[i]])\n",
    "    if out==0 and y_test[i]==0:\n",
    "        acc[0,0]=acc[0,0]+1\n",
    "    if out==1 and y_test[i]==0:\n",
    "        acc[1,0]=acc[1,0]+1\n",
    "    if out==0 and y_test[i]==1:\n",
    "        acc[0,1]=acc[0,1]+1\n",
    "    if out==1 and y_test[i]==1:\n",
    "        acc[1,1]=acc[1,1]+1\n",
    "print(acc)"
   ]
  },
  {
   "cell_type": "code",
   "execution_count": null,
   "id": "c40f60c2",
   "metadata": {},
   "outputs": [],
   "source": [
    "from sklearn.naive_bayes import GaussianNB\n",
    "X_train, X_test, y_train, y_test = train_test_split(X, y, test_size=0.1, random_state=0)\n",
    "gnb = GaussianNB()\n",
    "y_pred = gnb.fit(X_train, y_train).predict(X_test)"
   ]
  },
  {
   "cell_type": "code",
   "execution_count": null,
   "id": "bfc06259",
   "metadata": {},
   "outputs": [],
   "source": [
    "acc=np.zeros((2,2))\n",
    "for i in range(len(X_test)):\n",
    "    out=clf.predict([X_test[i]])\n",
    "    if out==0 and y_test[i]==0:\n",
    "        acc[0,0]=acc[0,0]+1\n",
    "    if out==1 and y_test[i]==0:\n",
    "        acc[1,0]=acc[1,0]+1\n",
    "    if out==0 and y_test[i]==1:\n",
    "        acc[0,1]=acc[0,1]+1\n",
    "    if out==1 and y_test[i]==1:\n",
    "        acc[1,1]=acc[1,1]+1\n",
    "print(acc)"
   ]
  },
  {
   "cell_type": "code",
   "execution_count": null,
   "id": "7d020341",
   "metadata": {},
   "outputs": [],
   "source": [
    ">>> from sklearn.feature_extraction.text import TfidfVectorizer\n",
    ">>> corpus = [\n",
    "...     'This is the first document.',\n",
    "...     'This document is the second document.',\n",
    "...     'And this is the third one.',\n",
    "...     'Is this the first document?',\n",
    "... ]\n",
    ">>> vectorizer = TfidfVectorizer()\n",
    ">>> X = vectorizer.fit_transform(corpus)\n",
    ">>> print(vectorizer.get_feature_names_out())\n",
    "print(X.toarray())\n",
    ">>> print(X.shape)\n",
    "print(type(X))\n",
    "vectorizer.vocabulary_.get('is')"
   ]
  },
  {
   "cell_type": "code",
   "execution_count": null,
   "id": "2de76fd7",
   "metadata": {},
   "outputs": [],
   "source": []
  }
 ],
 "metadata": {
  "kernelspec": {
   "display_name": "Python 3 (ipykernel)",
   "language": "python",
   "name": "python3"
  },
  "language_info": {
   "codemirror_mode": {
    "name": "ipython",
    "version": 3
   },
   "file_extension": ".py",
   "mimetype": "text/x-python",
   "name": "python",
   "nbconvert_exporter": "python",
   "pygments_lexer": "ipython3",
   "version": "3.9.12"
  }
 },
 "nbformat": 4,
 "nbformat_minor": 5
}
