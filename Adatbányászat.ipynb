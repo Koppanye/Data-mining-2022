{
 "cells": [
  {
   "cell_type": "markdown",
   "id": "0a0de2fb",
   "metadata": {},
   "source": [
    "# Importálás"
   ]
  },
  {
   "cell_type": "code",
   "execution_count": 1,
   "id": "9cd9aee6",
   "metadata": {},
   "outputs": [
    {
     "name": "stderr",
     "output_type": "stream",
     "text": [
      "C:\\Users\\User\\anaconda3\\lib\\site-packages\\xgboost\\compat.py:36: FutureWarning: pandas.Int64Index is deprecated and will be removed from pandas in a future version. Use pandas.Index with the appropriate dtype instead.\n",
      "  from pandas import MultiIndex, Int64Index\n"
     ]
    }
   ],
   "source": [
    "import pandas as pd\n",
    "import numpy as np\n",
    "import seaborn as sb\n",
    "import matplotlib.pyplot as plt\n",
    "# Nlp library\n",
    "import re\n",
    "import nltk\n",
    "from nltk.corpus import stopwords\n",
    "import nltk as nlp\n",
    "from sklearn.feature_extraction.text import CountVectorizer\n",
    "\n",
    "# sklearn Library\n",
    "from sklearn.model_selection import train_test_split\n",
    "from sklearn.svm import SVC\n",
    "from sklearn.model_selection import GridSearchCV\n",
    "from sklearn.metrics import r2_score\n",
    "from sklearn.metrics import confusion_matrix, classification_report, plot_confusion_matrix\n",
    "from sklearn.metrics import accuracy_score, f1_score, recall_score, precision_score\n",
    "from sklearn.ensemble import RandomForestClassifier\n",
    "from sklearn.model_selection import GridSearchCV\n",
    "from sklearn.linear_model import LogisticRegression\n",
    "from xgboost import XGBClassifier\n",
    "from sklearn.metrics import explained_variance_score\n",
    "\n",
    "#Tenserflow Library\n",
    "import tensorflow as tf\n",
    "from tensorflow.keras.models import Sequential\n",
    "from tensorflow.keras.layers import Dense, Activation, Dropout\n",
    "from keras.layers import LSTM\n",
    "from tensorflow.keras.layers import Embedding,  Bidirectional\n",
    "from tensorflow.keras.preprocessing.sequence import pad_sequences\n",
    "\n",
    "import warnings\n",
    "warnings.filterwarnings(\"ignore\")"
   ]
  },
  {
   "cell_type": "markdown",
   "id": "e02f5808",
   "metadata": {},
   "source": [
    "# Adatvizualizáció"
   ]
  },
  {
   "cell_type": "code",
   "execution_count": 2,
   "id": "8c2b48c7",
   "metadata": {},
   "outputs": [],
   "source": [
    "jobs = pd.read_csv('fake_job_postings.csv')"
   ]
  },
  {
   "cell_type": "code",
   "execution_count": 3,
   "id": "7b744e2e",
   "metadata": {},
   "outputs": [
    {
     "data": {
      "text/html": [
       "<div>\n",
       "<style scoped>\n",
       "    .dataframe tbody tr th:only-of-type {\n",
       "        vertical-align: middle;\n",
       "    }\n",
       "\n",
       "    .dataframe tbody tr th {\n",
       "        vertical-align: top;\n",
       "    }\n",
       "\n",
       "    .dataframe thead th {\n",
       "        text-align: right;\n",
       "    }\n",
       "</style>\n",
       "<table border=\"1\" class=\"dataframe\">\n",
       "  <thead>\n",
       "    <tr style=\"text-align: right;\">\n",
       "      <th></th>\n",
       "      <th>job_id</th>\n",
       "      <th>title</th>\n",
       "      <th>location</th>\n",
       "      <th>department</th>\n",
       "      <th>salary_range</th>\n",
       "      <th>company_profile</th>\n",
       "      <th>description</th>\n",
       "      <th>requirements</th>\n",
       "      <th>benefits</th>\n",
       "      <th>telecommuting</th>\n",
       "      <th>has_company_logo</th>\n",
       "      <th>has_questions</th>\n",
       "      <th>employment_type</th>\n",
       "      <th>required_experience</th>\n",
       "      <th>required_education</th>\n",
       "      <th>industry</th>\n",
       "      <th>function</th>\n",
       "      <th>fraudulent</th>\n",
       "    </tr>\n",
       "  </thead>\n",
       "  <tbody>\n",
       "    <tr>\n",
       "      <th>0</th>\n",
       "      <td>1</td>\n",
       "      <td>Marketing Intern</td>\n",
       "      <td>US, NY, New York</td>\n",
       "      <td>Marketing</td>\n",
       "      <td>NaN</td>\n",
       "      <td>We're Food52, and we've created a groundbreaki...</td>\n",
       "      <td>Food52, a fast-growing, James Beard Award-winn...</td>\n",
       "      <td>Experience with content management systems a m...</td>\n",
       "      <td>NaN</td>\n",
       "      <td>0</td>\n",
       "      <td>1</td>\n",
       "      <td>0</td>\n",
       "      <td>Other</td>\n",
       "      <td>Internship</td>\n",
       "      <td>NaN</td>\n",
       "      <td>NaN</td>\n",
       "      <td>Marketing</td>\n",
       "      <td>0</td>\n",
       "    </tr>\n",
       "    <tr>\n",
       "      <th>1</th>\n",
       "      <td>2</td>\n",
       "      <td>Customer Service - Cloud Video Production</td>\n",
       "      <td>NZ, , Auckland</td>\n",
       "      <td>Success</td>\n",
       "      <td>NaN</td>\n",
       "      <td>90 Seconds, the worlds Cloud Video Production ...</td>\n",
       "      <td>Organised - Focused - Vibrant - Awesome!Do you...</td>\n",
       "      <td>What we expect from you:Your key responsibilit...</td>\n",
       "      <td>What you will get from usThrough being part of...</td>\n",
       "      <td>0</td>\n",
       "      <td>1</td>\n",
       "      <td>0</td>\n",
       "      <td>Full-time</td>\n",
       "      <td>Not Applicable</td>\n",
       "      <td>NaN</td>\n",
       "      <td>Marketing and Advertising</td>\n",
       "      <td>Customer Service</td>\n",
       "      <td>0</td>\n",
       "    </tr>\n",
       "    <tr>\n",
       "      <th>2</th>\n",
       "      <td>3</td>\n",
       "      <td>Commissioning Machinery Assistant (CMA)</td>\n",
       "      <td>US, IA, Wever</td>\n",
       "      <td>NaN</td>\n",
       "      <td>NaN</td>\n",
       "      <td>Valor Services provides Workforce Solutions th...</td>\n",
       "      <td>Our client, located in Houston, is actively se...</td>\n",
       "      <td>Implement pre-commissioning and commissioning ...</td>\n",
       "      <td>NaN</td>\n",
       "      <td>0</td>\n",
       "      <td>1</td>\n",
       "      <td>0</td>\n",
       "      <td>NaN</td>\n",
       "      <td>NaN</td>\n",
       "      <td>NaN</td>\n",
       "      <td>NaN</td>\n",
       "      <td>NaN</td>\n",
       "      <td>0</td>\n",
       "    </tr>\n",
       "    <tr>\n",
       "      <th>3</th>\n",
       "      <td>4</td>\n",
       "      <td>Account Executive - Washington DC</td>\n",
       "      <td>US, DC, Washington</td>\n",
       "      <td>Sales</td>\n",
       "      <td>NaN</td>\n",
       "      <td>Our passion for improving quality of life thro...</td>\n",
       "      <td>THE COMPANY: ESRI – Environmental Systems Rese...</td>\n",
       "      <td>EDUCATION: Bachelor’s or Master’s in GIS, busi...</td>\n",
       "      <td>Our culture is anything but corporate—we have ...</td>\n",
       "      <td>0</td>\n",
       "      <td>1</td>\n",
       "      <td>0</td>\n",
       "      <td>Full-time</td>\n",
       "      <td>Mid-Senior level</td>\n",
       "      <td>Bachelor's Degree</td>\n",
       "      <td>Computer Software</td>\n",
       "      <td>Sales</td>\n",
       "      <td>0</td>\n",
       "    </tr>\n",
       "    <tr>\n",
       "      <th>4</th>\n",
       "      <td>5</td>\n",
       "      <td>Bill Review Manager</td>\n",
       "      <td>US, FL, Fort Worth</td>\n",
       "      <td>NaN</td>\n",
       "      <td>NaN</td>\n",
       "      <td>SpotSource Solutions LLC is a Global Human Cap...</td>\n",
       "      <td>JOB TITLE: Itemization Review ManagerLOCATION:...</td>\n",
       "      <td>QUALIFICATIONS:RN license in the State of Texa...</td>\n",
       "      <td>Full Benefits Offered</td>\n",
       "      <td>0</td>\n",
       "      <td>1</td>\n",
       "      <td>1</td>\n",
       "      <td>Full-time</td>\n",
       "      <td>Mid-Senior level</td>\n",
       "      <td>Bachelor's Degree</td>\n",
       "      <td>Hospital &amp; Health Care</td>\n",
       "      <td>Health Care Provider</td>\n",
       "      <td>0</td>\n",
       "    </tr>\n",
       "  </tbody>\n",
       "</table>\n",
       "</div>"
      ],
      "text/plain": [
       "   job_id                                      title            location  \\\n",
       "0       1                           Marketing Intern    US, NY, New York   \n",
       "1       2  Customer Service - Cloud Video Production      NZ, , Auckland   \n",
       "2       3    Commissioning Machinery Assistant (CMA)       US, IA, Wever   \n",
       "3       4          Account Executive - Washington DC  US, DC, Washington   \n",
       "4       5                        Bill Review Manager  US, FL, Fort Worth   \n",
       "\n",
       "  department salary_range                                    company_profile  \\\n",
       "0  Marketing          NaN  We're Food52, and we've created a groundbreaki...   \n",
       "1    Success          NaN  90 Seconds, the worlds Cloud Video Production ...   \n",
       "2        NaN          NaN  Valor Services provides Workforce Solutions th...   \n",
       "3      Sales          NaN  Our passion for improving quality of life thro...   \n",
       "4        NaN          NaN  SpotSource Solutions LLC is a Global Human Cap...   \n",
       "\n",
       "                                         description  \\\n",
       "0  Food52, a fast-growing, James Beard Award-winn...   \n",
       "1  Organised - Focused - Vibrant - Awesome!Do you...   \n",
       "2  Our client, located in Houston, is actively se...   \n",
       "3  THE COMPANY: ESRI – Environmental Systems Rese...   \n",
       "4  JOB TITLE: Itemization Review ManagerLOCATION:...   \n",
       "\n",
       "                                        requirements  \\\n",
       "0  Experience with content management systems a m...   \n",
       "1  What we expect from you:Your key responsibilit...   \n",
       "2  Implement pre-commissioning and commissioning ...   \n",
       "3  EDUCATION: Bachelor’s or Master’s in GIS, busi...   \n",
       "4  QUALIFICATIONS:RN license in the State of Texa...   \n",
       "\n",
       "                                            benefits  telecommuting  \\\n",
       "0                                                NaN              0   \n",
       "1  What you will get from usThrough being part of...              0   \n",
       "2                                                NaN              0   \n",
       "3  Our culture is anything but corporate—we have ...              0   \n",
       "4                              Full Benefits Offered              0   \n",
       "\n",
       "   has_company_logo  has_questions employment_type required_experience  \\\n",
       "0                 1              0           Other          Internship   \n",
       "1                 1              0       Full-time      Not Applicable   \n",
       "2                 1              0             NaN                 NaN   \n",
       "3                 1              0       Full-time    Mid-Senior level   \n",
       "4                 1              1       Full-time    Mid-Senior level   \n",
       "\n",
       "  required_education                   industry              function  \\\n",
       "0                NaN                        NaN             Marketing   \n",
       "1                NaN  Marketing and Advertising      Customer Service   \n",
       "2                NaN                        NaN                   NaN   \n",
       "3  Bachelor's Degree          Computer Software                 Sales   \n",
       "4  Bachelor's Degree     Hospital & Health Care  Health Care Provider   \n",
       "\n",
       "   fraudulent  \n",
       "0           0  \n",
       "1           0  \n",
       "2           0  \n",
       "3           0  \n",
       "4           0  "
      ]
     },
     "execution_count": 3,
     "metadata": {},
     "output_type": "execute_result"
    }
   ],
   "source": [
    "jobs.head()"
   ]
  },
  {
   "cell_type": "code",
   "execution_count": 4,
   "id": "326a29f3",
   "metadata": {},
   "outputs": [
    {
     "data": {
      "text/plain": [
       "<AxesSubplot:ylabel='fraudulent'>"
      ]
     },
     "execution_count": 4,
     "metadata": {},
     "output_type": "execute_result"
    },
    {
     "data": {
      "image/png": "[encoded data removed]",
      "text/plain": [
       "<Figure size 432x288 with 1 Axes>"
      ]
     },
     "metadata": {},
     "output_type": "display_data"
    }
   ],
   "source": [
    "jobs.fraudulent.value_counts().plot(kind='pie')"
   ]
  },
  {
   "cell_type": "code",
   "execution_count": 5,
   "id": "0cef93ed",
   "metadata": {},
   "outputs": [
    {
     "name": "stdout",
     "output_type": "stream",
     "text": [
      "0.9515659955257271\n",
      "17014\n",
      "866\n"
     ]
    }
   ],
   "source": [
    "print(jobs.fraudulent.value_counts()[0]/len(jobs))\n",
    "print(jobs.fraudulent.value_counts()[0])\n",
    "print(jobs.fraudulent.value_counts()[1])"
   ]
  },
  {
   "cell_type": "code",
   "execution_count": 6,
   "id": "d3fa7d03",
   "metadata": {},
   "outputs": [],
   "source": [
    "def isNaN(string):\n",
    "    return string != string"
   ]
  },
  {
   "cell_type": "code",
   "execution_count": 7,
   "id": "3f1072e0",
   "metadata": {},
   "outputs": [],
   "source": [
    "y0=[]\n",
    "y1=[]\n",
    "for c in jobs.columns:\n",
    "    y0.append(len(jobs[c][isNaN(jobs[c])==1][jobs.fraudulent==0])/jobs.fraudulent.value_counts()[0])\n",
    "    y1.append(len(jobs[c][isNaN(jobs[c])==1][jobs.fraudulent==1])/jobs.fraudulent.value_counts()[1])"
   ]
  },
  {
   "cell_type": "code",
   "execution_count": 8,
   "id": "5ac3efa1",
   "metadata": {},
   "outputs": [
    {
     "data": {
      "text/plain": [
       "Text(0.5, 1.0, 'NaN ratio')"
      ]
     },
     "execution_count": 8,
     "metadata": {},
     "output_type": "execute_result"
    },
    {
     "data": {
      "image/png": "[encoded data removed]",
      "text/plain": [
       "<Figure size 432x288 with 1 Axes>"
      ]
     },
     "metadata": {
      "needs_background": "light"
     },
     "output_type": "display_data"
    }
   ],
   "source": [
    "import matplotlib.pyplot as plt\n",
    "x=jobs.columns\n",
    "plt.plot(x,100*np.array(y1),'ro',x,100*np.array(y0),'bo')\n",
    "plt.legend([\"fake\", \"true\"])\n",
    "plt.ylabel('%')\n",
    "plt.xlabel('Columns')\n",
    "plt.xticks(rotation=80)\n",
    "plt.title(\"NaN ratio\")"
   ]
  },
  {
   "cell_type": "code",
   "execution_count": 9,
   "id": "03b58a07",
   "metadata": {},
   "outputs": [],
   "source": [
    "jobs.title = jobs.title.str.strip()\n",
    "title = jobs.title.value_counts()[:10]"
   ]
  },
  {
   "cell_type": "code",
   "execution_count": 10,
   "id": "efc709ec",
   "metadata": {
    "scrolled": false
   },
   "outputs": [
    {
     "data": {
      "image/png": "[encoded data removed]",
      "text/plain": [
       "<Figure size 720x360 with 1 Axes>"
      ]
     },
     "metadata": {
      "needs_background": "light"
     },
     "output_type": "display_data"
    }
   ],
   "source": [
    "plt.figure(figsize = (10,5))\n",
    "sb.barplot(x = title.index, y = title )\n",
    "plt.title(\"Most Common Title of Posts\", fontdict = {\"fontsize\" : 14})\n",
    "plt.ylabel(\"Count\", fontdict = {\"fontsize\" : 14})\n",
    "plt.xticks(rotation=80);"
   ]
  },
  {
   "cell_type": "code",
   "execution_count": 11,
   "id": "411cb777",
   "metadata": {},
   "outputs": [],
   "source": [
    "location = jobs.location.value_counts()[:10]"
   ]
  },
  {
   "cell_type": "code",
   "execution_count": 12,
   "id": "041afc09",
   "metadata": {},
   "outputs": [
    {
     "data": {
      "image/png": "[encoded data removed]",
      "text/plain": [
       "<Figure size 720x360 with 1 Axes>"
      ]
     },
     "metadata": {
      "needs_background": "light"
     },
     "output_type": "display_data"
    }
   ],
   "source": [
    "plt.figure(figsize = (10,5))\n",
    "sb.barplot(x = location.index, y = location )\n",
    "plt.title(\"Most Common location of Posts\", fontdict = {\"fontsize\" : 14})\n",
    "plt.ylabel(\"Count\", fontdict = {\"fontsize\" : 14})\n",
    "plt.xticks(rotation=80);"
   ]
  },
  {
   "cell_type": "code",
   "execution_count": 13,
   "id": "a4b5c5dd",
   "metadata": {},
   "outputs": [],
   "source": [
    "loc=jobs.location.value_counts(dropna=False)\n",
    "loc1=jobs.location[jobs.fraudulent==1].value_counts(dropna=False)\n",
    "ratio=loc1.divide(loc, fill_value=0)\n",
    "y=[]\n",
    "for r in ratio.values:\n",
    "    y.append(len(ratio[ratio==r]))"
   ]
  },
  {
   "cell_type": "code",
   "execution_count": 14,
   "id": "2f8eef05",
   "metadata": {},
   "outputs": [
    {
     "data": {
      "text/plain": [
       "Text(0.5, 1.0, 'Number of location with the fake probability')"
      ]
     },
     "execution_count": 14,
     "metadata": {},
     "output_type": "execute_result"
    },
    {
     "data": {
      "image/png": "[encoded data removed]",
      "text/plain": [
       "<Figure size 432x288 with 1 Axes>"
      ]
     },
     "metadata": {
      "needs_background": "light"
     },
     "output_type": "display_data"
    }
   ],
   "source": [
    "plt.plot(ratio.values,y,'ro')\n",
    "plt.ylabel('Number of location')\n",
    "plt.xlabel('Fake ratio')\n",
    "plt.title(\"Number of location with the fake probability\")"
   ]
  },
  {
   "cell_type": "markdown",
   "id": "637d3bac",
   "metadata": {},
   "source": [
    "# Naive Bayes"
   ]
  },
  {
   "cell_type": "code",
   "execution_count": 15,
   "id": "67f40ab3",
   "metadata": {},
   "outputs": [],
   "source": [
    "is_fraud = jobs['fraudulent'] == 1\n",
    "df_try = jobs[is_fraud]\n",
    "jobs_over=jobs\n",
    "jobs_over=jobs_over.append([df_try]*18,ignore_index=True)"
   ]
  },
  {
   "cell_type": "code",
   "execution_count": 16,
   "id": "97eb3d72",
   "metadata": {},
   "outputs": [
    {
     "data": {
      "text/plain": [
       "<AxesSubplot:ylabel='fraudulent'>"
      ]
     },
     "execution_count": 16,
     "metadata": {},
     "output_type": "execute_result"
    },
    {
     "data": {
      "image/png": "[encoded data removed]",
      "text/plain": [
       "<Figure size 432x288 with 1 Axes>"
      ]
     },
     "metadata": {},
     "output_type": "display_data"
    }
   ],
   "source": [
    "jobs_over.fraudulent.value_counts().plot(kind='pie')"
   ]
  },
  {
   "cell_type": "code",
   "execution_count": 17,
   "id": "083b0543",
   "metadata": {},
   "outputs": [
    {
     "name": "stdout",
     "output_type": "stream",
     "text": [
      "[5.811e+03 2.535e+03 7.580e+02 8.740e+02 0.000e+00 1.000e+00 0.000e+00\n",
      " 2.000e+00 4.000e+00 1.300e+01 1.310e+02 2.200e+01]\n"
     ]
    }
   ],
   "source": [
    "from sklearn import preprocessing\n",
    "jobs_last = jobs_over.drop(columns = ['job_id','company_profile', 'description', 'benefits', 'requirements','fraudulent'])\n",
    "jobs_last.head()\n",
    "X=np.zeros((len(jobs_last),len(jobs_last.columns)))\n",
    "for j in range(len(jobs_last.columns)):\n",
    "    le = preprocessing.LabelEncoder()\n",
    "    # Converting string labels into numbers.\n",
    "    Xoszlop=le.fit_transform(jobs_last[jobs_last.columns[j]])\n",
    "    X[:,j]=Xoszlop\n",
    "print(X[0])"
   ]
  },
  {
   "cell_type": "code",
   "execution_count": 18,
   "id": "6f482d63",
   "metadata": {},
   "outputs": [],
   "source": [
    "y = jobs_over.fraudulent.values\n",
    "y = y.reshape(-1,1)"
   ]
  },
  {
   "cell_type": "code",
   "execution_count": 19,
   "id": "c39f60fd",
   "metadata": {},
   "outputs": [],
   "source": [
    "X_train, X_test, y_train, y_test = train_test_split(X, y, test_size= 0.1, random_state= 0)"
   ]
  },
  {
   "cell_type": "code",
   "execution_count": 20,
   "id": "a475b7e9",
   "metadata": {
    "scrolled": true
   },
   "outputs": [],
   "source": [
    "from sklearn.naive_bayes import CategoricalNB\n",
    "clf = CategoricalNB(class_prior=[jobs_over.fraudulent.value_counts()[0],jobs_over.fraudulent.value_counts()[1]])\n",
    "clf.fit(X_train, y_train)\n",
    "y_pred=clf.predict(X_test)"
   ]
  },
  {
   "cell_type": "code",
   "execution_count": 21,
   "id": "c6b1c1fa",
   "metadata": {},
   "outputs": [
    {
     "name": "stdout",
     "output_type": "stream",
     "text": [
      "Accuracy: 0.9521959964146998\n"
     ]
    }
   ],
   "source": [
    "from sklearn import metrics\n",
    "print(\"Accuracy:\",metrics.accuracy_score(y_test, y_pred))"
   ]
  },
  {
   "cell_type": "code",
   "execution_count": 22,
   "id": "bca143ba",
   "metadata": {},
   "outputs": [
    {
     "name": "stdout",
     "output_type": "stream",
     "text": [
      "[[1516.   21.]\n",
      " [ 139. 1671.]]\n"
     ]
    }
   ],
   "source": [
    "acc=np.zeros((2,2))\n",
    "for i in range(len(X_test)):\n",
    "    out=y_pred[i]\n",
    "    if out==0 and y_test[i]==0:\n",
    "        acc[0,0]=acc[0,0]+1\n",
    "    if out==1 and y_test[i]==0:\n",
    "        acc[1,0]=acc[1,0]+1\n",
    "    if out==0 and y_test[i]==1:\n",
    "        acc[0,1]=acc[0,1]+1\n",
    "    if out==1 and y_test[i]==1:\n",
    "        acc[1,1]=acc[1,1]+1\n",
    "print(acc)"
   ]
  },
  {
   "cell_type": "markdown",
   "id": "c3437f8c",
   "metadata": {},
   "source": [
    "# Adat átalakítás numerikus értékekké"
   ]
  },
  {
   "cell_type": "code",
   "execution_count": 23,
   "id": "21dba535",
   "metadata": {},
   "outputs": [
    {
     "data": {
      "text/html": [
       "<div>\n",
       "<style scoped>\n",
       "    .dataframe tbody tr th:only-of-type {\n",
       "        vertical-align: middle;\n",
       "    }\n",
       "\n",
       "    .dataframe tbody tr th {\n",
       "        vertical-align: top;\n",
       "    }\n",
       "\n",
       "    .dataframe thead th {\n",
       "        text-align: right;\n",
       "    }\n",
       "</style>\n",
       "<table border=\"1\" class=\"dataframe\">\n",
       "  <thead>\n",
       "    <tr style=\"text-align: right;\">\n",
       "      <th></th>\n",
       "      <th>title</th>\n",
       "      <th>location</th>\n",
       "      <th>telecommuting</th>\n",
       "      <th>has_company_logo</th>\n",
       "      <th>has_questions</th>\n",
       "      <th>employment_type</th>\n",
       "      <th>required_experience</th>\n",
       "      <th>required_education</th>\n",
       "      <th>industry</th>\n",
       "      <th>function</th>\n",
       "    </tr>\n",
       "  </thead>\n",
       "  <tbody>\n",
       "    <tr>\n",
       "      <th>0</th>\n",
       "      <td>Marketing Intern</td>\n",
       "      <td>US, NY, New York</td>\n",
       "      <td>0</td>\n",
       "      <td>1</td>\n",
       "      <td>0</td>\n",
       "      <td>Other</td>\n",
       "      <td>Internship</td>\n",
       "      <td>NaN</td>\n",
       "      <td>NaN</td>\n",
       "      <td>Marketing</td>\n",
       "    </tr>\n",
       "    <tr>\n",
       "      <th>1</th>\n",
       "      <td>Customer Service - Cloud Video Production</td>\n",
       "      <td>NZ, , Auckland</td>\n",
       "      <td>0</td>\n",
       "      <td>1</td>\n",
       "      <td>0</td>\n",
       "      <td>Full-time</td>\n",
       "      <td>Not Applicable</td>\n",
       "      <td>NaN</td>\n",
       "      <td>Marketing and Advertising</td>\n",
       "      <td>Customer Service</td>\n",
       "    </tr>\n",
       "    <tr>\n",
       "      <th>2</th>\n",
       "      <td>Commissioning Machinery Assistant (CMA)</td>\n",
       "      <td>US, IA, Wever</td>\n",
       "      <td>0</td>\n",
       "      <td>1</td>\n",
       "      <td>0</td>\n",
       "      <td>NaN</td>\n",
       "      <td>NaN</td>\n",
       "      <td>NaN</td>\n",
       "      <td>NaN</td>\n",
       "      <td>NaN</td>\n",
       "    </tr>\n",
       "    <tr>\n",
       "      <th>3</th>\n",
       "      <td>Account Executive - Washington DC</td>\n",
       "      <td>US, DC, Washington</td>\n",
       "      <td>0</td>\n",
       "      <td>1</td>\n",
       "      <td>0</td>\n",
       "      <td>Full-time</td>\n",
       "      <td>Mid-Senior level</td>\n",
       "      <td>Bachelor's Degree</td>\n",
       "      <td>Computer Software</td>\n",
       "      <td>Sales</td>\n",
       "    </tr>\n",
       "    <tr>\n",
       "      <th>4</th>\n",
       "      <td>Bill Review Manager</td>\n",
       "      <td>US, FL, Fort Worth</td>\n",
       "      <td>0</td>\n",
       "      <td>1</td>\n",
       "      <td>1</td>\n",
       "      <td>Full-time</td>\n",
       "      <td>Mid-Senior level</td>\n",
       "      <td>Bachelor's Degree</td>\n",
       "      <td>Hospital &amp; Health Care</td>\n",
       "      <td>Health Care Provider</td>\n",
       "    </tr>\n",
       "  </tbody>\n",
       "</table>\n",
       "</div>"
      ],
      "text/plain": [
       "                                       title            location  \\\n",
       "0                           Marketing Intern    US, NY, New York   \n",
       "1  Customer Service - Cloud Video Production      NZ, , Auckland   \n",
       "2    Commissioning Machinery Assistant (CMA)       US, IA, Wever   \n",
       "3          Account Executive - Washington DC  US, DC, Washington   \n",
       "4                        Bill Review Manager  US, FL, Fort Worth   \n",
       "\n",
       "   telecommuting  has_company_logo  has_questions employment_type  \\\n",
       "0              0                 1              0           Other   \n",
       "1              0                 1              0       Full-time   \n",
       "2              0                 1              0             NaN   \n",
       "3              0                 1              0       Full-time   \n",
       "4              0                 1              1       Full-time   \n",
       "\n",
       "  required_experience required_education                   industry  \\\n",
       "0          Internship                NaN                        NaN   \n",
       "1      Not Applicable                NaN  Marketing and Advertising   \n",
       "2                 NaN                NaN                        NaN   \n",
       "3    Mid-Senior level  Bachelor's Degree          Computer Software   \n",
       "4    Mid-Senior level  Bachelor's Degree     Hospital & Health Care   \n",
       "\n",
       "               function  \n",
       "0             Marketing  \n",
       "1      Customer Service  \n",
       "2                   NaN  \n",
       "3                 Sales  \n",
       "4  Health Care Provider  "
      ]
     },
     "execution_count": 23,
     "metadata": {},
     "output_type": "execute_result"
    }
   ],
   "source": [
    "jobs_last = jobs_over.drop(columns = ['job_id','department',\n",
    "                             'salary_range', 'company_profile','description','requirements','benefits','fraudulent'])\n",
    "jobs_last.head()"
   ]
  },
  {
   "cell_type": "code",
   "execution_count": 24,
   "id": "4c79bf05",
   "metadata": {},
   "outputs": [],
   "source": [
    "from sklearn.preprocessing import OneHotEncoder\n",
    "# Minden oszlopot elkódolok a onehot kódolással\n",
    "onehot=dict()\n",
    "for c in jobs_last.columns:\n",
    "    X=jobs_last[c].array.reshape(-1,1)\n",
    "    enc = OneHotEncoder(handle_unknown='ignore')\n",
    "    onehot[c]=enc.fit_transform(X).toarray()"
   ]
  },
  {
   "cell_type": "code",
   "execution_count": 26,
   "id": "c7efdfd2",
   "metadata": {},
   "outputs": [],
   "source": [
    "import random\n",
    "X=[]\n",
    "rand=[]\n",
    "for i in range(5000): # Kiválsztok 5000 véletlen sort.\n",
    "    rand.append(random.randint(0, 33467))\n",
    "\n",
    "for i in range(5000): # Ezekhez a sorokhoz összefűzöm az oszlopoknak megfelelő 0-1 vektorokat. \n",
    "    Xi=[]\n",
    "    for c in jobs_last.columns:\n",
    "        Xi=Xi+list(onehot[c][rand[i]])\n",
    "    X.append(Xi)"
   ]
  },
  {
   "cell_type": "code",
   "execution_count": 27,
   "id": "62be1455",
   "metadata": {},
   "outputs": [
    {
     "name": "stdout",
     "output_type": "stream",
     "text": [
      "{'copy': True, 'iterated_power': 'auto', 'n_components': 100, 'n_oversamples': 10, 'power_iteration_normalizer': 'auto', 'random_state': None, 'svd_solver': 'auto', 'tol': 0.0, 'whiten': False}\n",
      "[[ 1.12344535e+00 -4.53794757e-01 -1.41392145e-01 ... -6.92184329e-03\n",
      "   1.59845466e-02  8.66327669e-03]\n",
      " [ 1.84539866e+00 -2.95463913e-02 -4.10932533e-02 ...  3.02026077e-02\n",
      "   1.81860357e-02  4.60330984e-04]\n",
      " [-7.80273406e-01 -3.64127941e-01  1.22745322e+00 ... -7.89156909e-02\n",
      "   3.02057653e-02  1.46611757e-04]\n",
      " ...\n",
      " [-4.61349683e-01 -3.48650958e-01 -6.14607399e-01 ... -7.06768925e-02\n",
      "  -1.33878957e-01  3.22596064e-02]\n",
      " [-4.04461624e-01 -4.66227466e-01 -6.23389379e-01 ... -6.26962828e-03\n",
      "   3.24127231e-02  3.12945413e-02]\n",
      " [-8.95754763e-01  4.35647983e-01  2.40065573e-01 ... -1.81452757e-02\n",
      "  -1.23370924e-02 -1.44585512e-02]]\n"
     ]
    }
   ],
   "source": [
    "#PCA\n",
    "from sklearn.decomposition import PCA\n",
    "pca = PCA(n_components=100)\n",
    "X=pca.fit_transform(X)\n",
    "print(pca.get_params())\n",
    "print(X)"
   ]
  },
  {
   "cell_type": "code",
   "execution_count": 28,
   "id": "5e7a3ad2",
   "metadata": {},
   "outputs": [
    {
     "name": "stdout",
     "output_type": "stream",
     "text": [
      "[[1.]\n",
      " [0.]\n",
      " [1.]\n",
      " ...\n",
      " [1.]\n",
      " [0.]\n",
      " [0.]]\n"
     ]
    }
   ],
   "source": [
    "# A fraudulent értékek\n",
    "y=np.zeros(5000)\n",
    "for i in range(5000):\n",
    "    y[i]=jobs_over.fraudulent[rand[i]]\n",
    "y = y.reshape(-1,1)\n",
    "print(y)"
   ]
  },
  {
   "cell_type": "markdown",
   "id": "e983ece2",
   "metadata": {},
   "source": [
    "# Support Vector Machine"
   ]
  },
  {
   "cell_type": "code",
   "execution_count": 29,
   "id": "dda19440",
   "metadata": {},
   "outputs": [],
   "source": [
    "X_train, X_test, y_train, y_test = train_test_split(X, y, test_size= 0.1, random_state= 101)"
   ]
  },
  {
   "cell_type": "code",
   "execution_count": 30,
   "id": "d60ab7b1",
   "metadata": {},
   "outputs": [],
   "source": [
    "from sklearn import svm\n",
    "clf = svm.SVC(kernel='poly',max_iter=1000)\n",
    "clf = clf.fit(X_train, y_train)"
   ]
  },
  {
   "cell_type": "code",
   "execution_count": 31,
   "id": "5a11d715",
   "metadata": {},
   "outputs": [],
   "source": [
    "y_pred = clf.predict(X_test)"
   ]
  },
  {
   "cell_type": "code",
   "execution_count": 32,
   "id": "b3e95cca",
   "metadata": {},
   "outputs": [
    {
     "name": "stdout",
     "output_type": "stream",
     "text": [
      "[[232.  19.]\n",
      " [ 15. 234.]]\n"
     ]
    }
   ],
   "source": [
    "acc=np.zeros((2,2))\n",
    "for i in range(len(X_test)):\n",
    "    out=y_pred[i]\n",
    "    if out==0 and y_test[i]==0:\n",
    "        acc[0,0]=acc[0,0]+1\n",
    "    if out==1 and y_test[i]==0:\n",
    "        acc[1,0]=acc[1,0]+1\n",
    "    if out==0 and y_test[i]==1:\n",
    "        acc[0,1]=acc[0,1]+1\n",
    "    if out==1 and y_test[i]==1:\n",
    "        acc[1,1]=acc[1,1]+1\n",
    "print(acc)"
   ]
  },
  {
   "cell_type": "markdown",
   "id": "2525f063",
   "metadata": {},
   "source": [
    "# Decision Tree"
   ]
  },
  {
   "cell_type": "code",
   "execution_count": 33,
   "id": "730d7318",
   "metadata": {},
   "outputs": [],
   "source": [
    "from sklearn import tree\n",
    "clf = tree.DecisionTreeClassifier(criterion=\"gini\",max_depth=10)\n",
    "clf = clf.fit(X_train, y_train)"
   ]
  },
  {
   "cell_type": "code",
   "execution_count": 34,
   "id": "1d271828",
   "metadata": {},
   "outputs": [],
   "source": [
    "#tree.plot_tree(clf)"
   ]
  },
  {
   "cell_type": "code",
   "execution_count": 35,
   "id": "c635243b",
   "metadata": {},
   "outputs": [],
   "source": [
    "y_pred = clf.predict(X_test)"
   ]
  },
  {
   "cell_type": "code",
   "execution_count": 36,
   "id": "91916530",
   "metadata": {},
   "outputs": [
    {
     "name": "stdout",
     "output_type": "stream",
     "text": [
      "[[227.  14.]\n",
      " [ 20. 239.]]\n"
     ]
    }
   ],
   "source": [
    "acc=np.zeros((2,2))\n",
    "for i in range(len(X_test)):\n",
    "    out=y_pred[i]\n",
    "    if out==0 and y_test[i]==0:\n",
    "        acc[0,0]=acc[0,0]+1\n",
    "    if out==1 and y_test[i]==0:\n",
    "        acc[1,0]=acc[1,0]+1\n",
    "    if out==0 and y_test[i]==1:\n",
    "        acc[0,1]=acc[0,1]+1\n",
    "    if out==1 and y_test[i]==1:\n",
    "        acc[1,1]=acc[1,1]+1\n",
    "print(acc)"
   ]
  },
  {
   "cell_type": "markdown",
   "id": "55519e6a",
   "metadata": {},
   "source": [
    "# Random forest"
   ]
  },
  {
   "cell_type": "code",
   "execution_count": 37,
   "id": "14bdfcba",
   "metadata": {},
   "outputs": [],
   "source": [
    "from sklearn.ensemble import RandomForestClassifier\n",
    "clf = RandomForestClassifier(max_depth=10, random_state=0)\n",
    "clf = clf.fit(X_train, y_train)"
   ]
  },
  {
   "cell_type": "code",
   "execution_count": 38,
   "id": "65140ea4",
   "metadata": {},
   "outputs": [],
   "source": [
    "y_pred = clf.predict(X_test)"
   ]
  },
  {
   "cell_type": "code",
   "execution_count": 39,
   "id": "6ecb375d",
   "metadata": {},
   "outputs": [
    {
     "name": "stdout",
     "output_type": "stream",
     "text": [
      "[[239.  17.]\n",
      " [  8. 236.]]\n"
     ]
    }
   ],
   "source": [
    "acc=np.zeros((2,2))\n",
    "for i in range(len(X_test)):\n",
    "    out=y_pred[i]\n",
    "    if out==0 and y_test[i]==0:\n",
    "        acc[0,0]=acc[0,0]+1\n",
    "    if out==1 and y_test[i]==0:\n",
    "        acc[1,0]=acc[1,0]+1\n",
    "    if out==0 and y_test[i]==1:\n",
    "        acc[0,1]=acc[0,1]+1\n",
    "    if out==1 and y_test[i]==1:\n",
    "        acc[1,1]=acc[1,1]+1\n",
    "print(acc)"
   ]
  },
  {
   "cell_type": "markdown",
   "id": "f01ede5a",
   "metadata": {},
   "source": [
    "# Neural Networks"
   ]
  },
  {
   "cell_type": "code",
   "execution_count": 40,
   "id": "4a6d9d2b",
   "metadata": {
    "scrolled": true
   },
   "outputs": [
    {
     "name": "stdout",
     "output_type": "stream",
     "text": [
      "0.9558016354355027\n",
      "              precision    recall  f1-score   support\n",
      "\n",
      "         0.0       0.97      0.94      0.95       247\n",
      "         1.0       0.94      0.97      0.96       253\n",
      "\n",
      "    accuracy                           0.96       500\n",
      "   macro avg       0.96      0.96      0.96       500\n",
      "weighted avg       0.96      0.96      0.96       500\n",
      "\n"
     ]
    }
   ],
   "source": [
    "from sklearn.neural_network import MLPClassifier\n",
    "from sklearn.metrics import roc_auc_score\n",
    "mlp = MLPClassifier(solver = 'lbfgs', activation = 'relu',\n",
    "                   hidden_layer_sizes = (100,50,30), \n",
    "                    max_iter = 1000)\n",
    "\n",
    "mlp.fit(X_train, y_train)\n",
    "mlp_pred = mlp.predict(X_test)\n",
    "\n",
    "#Printing out our evaluation metrics\n",
    "print(roc_auc_score(y_test, mlp_pred))\n",
    "print(classification_report(y_test, mlp_pred))"
   ]
  },
  {
   "cell_type": "code",
   "execution_count": 41,
   "id": "d06f3a56",
   "metadata": {},
   "outputs": [
    {
     "name": "stdout",
     "output_type": "stream",
     "text": [
      "0.9558016354355027\n",
      "              precision    recall  f1-score   support\n",
      "\n",
      "         0.0       0.97      0.94      0.95       247\n",
      "         1.0       0.94      0.97      0.96       253\n",
      "\n",
      "    accuracy                           0.96       500\n",
      "   macro avg       0.96      0.96      0.96       500\n",
      "weighted avg       0.96      0.96      0.96       500\n",
      "\n"
     ]
    }
   ],
   "source": [
    "mlp_2 = MLPClassifier(solver = 'adam', activation = 'relu',\n",
    "                   hidden_layer_sizes = (100,50,30), \n",
    "                    max_iter = 1000)\n",
    "\n",
    "mlp_2.fit(X_train, y_train)\n",
    "mlp_pred_2 = mlp.predict(X_test)\n",
    "\n",
    "#Printing out our evaluation metrics\n",
    "print(roc_auc_score(y_test, mlp_pred))\n",
    "print(classification_report(y_test, mlp_pred))"
   ]
  },
  {
   "cell_type": "markdown",
   "id": "daa7329e",
   "metadata": {},
   "source": [
    "Most ugyan ez oversampling-gel"
   ]
  },
  {
   "cell_type": "code",
   "execution_count": 42,
   "id": "57711f04",
   "metadata": {},
   "outputs": [],
   "source": [
    "#pip install imbalanced-learn "
   ]
  },
  {
   "cell_type": "code",
   "execution_count": 43,
   "id": "3c4d5df1",
   "metadata": {},
   "outputs": [],
   "source": [
    "from imblearn.over_sampling import RandomOverSampler\n",
    "ros = RandomOverSampler(random_state = 0)\n",
    "\n",
    "                                   \n",
    "X_train_os, y_train_os = ros.fit_resample(X_train, y_train)"
   ]
  },
  {
   "cell_type": "code",
   "execution_count": 44,
   "id": "450ab661",
   "metadata": {},
   "outputs": [
    {
     "name": "stdout",
     "output_type": "stream",
     "text": [
      "0.9638988014274057\n",
      "              precision    recall  f1-score   support\n",
      "\n",
      "         0.0       0.97      0.96      0.96       247\n",
      "         1.0       0.96      0.97      0.96       253\n",
      "\n",
      "    accuracy                           0.96       500\n",
      "   macro avg       0.96      0.96      0.96       500\n",
      "weighted avg       0.96      0.96      0.96       500\n",
      "\n"
     ]
    }
   ],
   "source": [
    "mlp.fit(X_train_os, y_train_os)\n",
    "mlp_pred = mlp.predict(X_test)\n",
    "\n",
    "print(roc_auc_score(y_test, mlp_pred))\n",
    "print(classification_report(y_test, mlp_pred))"
   ]
  },
  {
   "cell_type": "code",
   "execution_count": 45,
   "id": "578be1c7",
   "metadata": {},
   "outputs": [
    {
     "name": "stdout",
     "output_type": "stream",
     "text": [
      "0.9638988014274057\n",
      "              precision    recall  f1-score   support\n",
      "\n",
      "         0.0       0.97      0.96      0.96       247\n",
      "         1.0       0.96      0.97      0.96       253\n",
      "\n",
      "    accuracy                           0.96       500\n",
      "   macro avg       0.96      0.96      0.96       500\n",
      "weighted avg       0.96      0.96      0.96       500\n",
      "\n"
     ]
    }
   ],
   "source": [
    "mlp_2.fit(X_train_os, y_train_os)\n",
    "mlp_pred_2 = mlp.predict(X_test)\n",
    "\n",
    "#Printing out our evaluation metrics\n",
    "print(roc_auc_score(y_test, mlp_pred))\n",
    "print(classification_report(y_test, mlp_pred))"
   ]
  },
  {
   "cell_type": "markdown",
   "id": "e72ad969",
   "metadata": {},
   "source": [
    "# Eddig van"
   ]
  },
  {
   "cell_type": "markdown",
   "id": "95476379",
   "metadata": {},
   "source": [
    "# Adat átalakítás"
   ]
  },
  {
   "cell_type": "markdown",
   "id": "7599ea55",
   "metadata": {},
   "source": [
    "Csak a description oszlopot tartom meg."
   ]
  },
  {
   "cell_type": "code",
   "execution_count": null,
   "id": "7c7fbaa0",
   "metadata": {},
   "outputs": [],
   "source": [
    "jobs_last = jobs.drop(columns = ['job_id','title','location','department', 'telecommuting',\n",
    "                             'salary_range','company_profile','requirements','benefits','employment_type',\n",
    "                             'required_experience','required_education','industry','function','has_company_logo','has_questions'])\n",
    "jobs_last.head()"
   ]
  },
  {
   "cell_type": "code",
   "execution_count": null,
   "id": "0de3c6b9",
   "metadata": {},
   "outputs": [],
   "source": [
    "jobs_last.fillna(\" \", inplace = True)\n",
    "jobs_last['word count'] = [len(i.split(' ')) for i in jobs_last['description']]"
   ]
  },
  {
   "cell_type": "code",
   "execution_count": null,
   "id": "cef0f4f2",
   "metadata": {},
   "outputs": [],
   "source": [
    "jobs_last.head()"
   ]
  },
  {
   "cell_type": "markdown",
   "id": "7d1525a2",
   "metadata": {},
   "source": [
    "Átalakítom a szavak számokká. Minden szó egy sorszámot kap, így minden description egy vektor lesz."
   ]
  },
  {
   "cell_type": "code",
   "execution_count": null,
   "id": "9856d0ee",
   "metadata": {},
   "outputs": [],
   "source": [
    "from tensorflow.keras.preprocessing.text import one_hot, Tokenizer"
   ]
  },
  {
   "cell_type": "code",
   "execution_count": null,
   "id": "4a2084a0",
   "metadata": {},
   "outputs": [],
   "source": [
    "max_features = 10000\n",
    "t = Tokenizer(num_words = max_features)\n",
    "# fit the tokenizer on the documents\n",
    "t.fit_on_texts(list(jobs_last['description']))"
   ]
  },
  {
   "cell_type": "code",
   "execution_count": null,
   "id": "327e1aca",
   "metadata": {},
   "outputs": [],
   "source": [
    "encoded_docs = t.texts_to_sequences(list(jobs_last['description']))"
   ]
  },
  {
   "cell_type": "code",
   "execution_count": null,
   "id": "7c41428a",
   "metadata": {},
   "outputs": [],
   "source": [
    "sent_length = jobs_last['word count'].max()\n",
    "embedded_docs=pad_sequences(encoded_docs,padding='pre',maxlen=sent_length)"
   ]
  },
  {
   "cell_type": "code",
   "execution_count": null,
   "id": "5908d6af",
   "metadata": {},
   "outputs": [],
   "source": [
    "print(embedded_docs)"
   ]
  },
  {
   "cell_type": "code",
   "execution_count": null,
   "id": "a7039c74",
   "metadata": {},
   "outputs": [],
   "source": [
    "y = jobs_last.fraudulent.values\n",
    "y = y.reshape(-1,1)\n",
    "X = np.array(embedded_docs)"
   ]
  },
  {
   "cell_type": "markdown",
   "id": "2f6ff856",
   "metadata": {},
   "source": [
    "# Egyszerű Döntési fa"
   ]
  },
  {
   "cell_type": "code",
   "execution_count": null,
   "id": "79d10b1e",
   "metadata": {},
   "outputs": [],
   "source": [
    "X_train, X_test, y_train, y_test = train_test_split(X, y, test_size= 0.1, random_state= 101)"
   ]
  },
  {
   "cell_type": "code",
   "execution_count": null,
   "id": "fee48a1d",
   "metadata": {},
   "outputs": [],
   "source": [
    "print(\"X_train shape: \",X_train.shape)\n",
    "print(\"X_test shape : \",X_test.shape )\n",
    "print(\"y_train shape: \",y_train.shape)\n",
    "print(\"y_test shape : \",y_test.shape)"
   ]
  },
  {
   "cell_type": "code",
   "execution_count": null,
   "id": "c465f1e4",
   "metadata": {},
   "outputs": [],
   "source": [
    "from sklearn import tree\n",
    "clf = tree.DecisionTreeClassifier(criterion=\"gini\",max_depth=10)\n",
    "clf = clf.fit(X_train, y_train)"
   ]
  },
  {
   "cell_type": "code",
   "execution_count": null,
   "id": "1afaa433",
   "metadata": {},
   "outputs": [],
   "source": [
    "#tree.plot_tree(clf)"
   ]
  },
  {
   "cell_type": "code",
   "execution_count": null,
   "id": "408158a4",
   "metadata": {},
   "outputs": [],
   "source": [
    "y_pred = clf.predict(X_test)"
   ]
  },
  {
   "cell_type": "code",
   "execution_count": null,
   "id": "ab994922",
   "metadata": {},
   "outputs": [],
   "source": [
    "from sklearn import metrics\n",
    "print(\"Accuracy:\",metrics.accuracy_score(y_test, y_pred))"
   ]
  },
  {
   "cell_type": "code",
   "execution_count": null,
   "id": "0cda6c27",
   "metadata": {},
   "outputs": [],
   "source": [
    "# Az előző kézzel.\n",
    "acc=np.zeros((2,2))\n",
    "for i in range(len(X_test)):\n",
    "    out=clf.predict([X_test[i]])\n",
    "    if out==0 and y_test[i]==0:\n",
    "        acc[0,0]=acc[0,0]+1\n",
    "    if out==1 and y_test[i]==0:\n",
    "        acc[1,0]=acc[1,0]+1\n",
    "    if out==0 and y_test[i]==1:\n",
    "        acc[0,1]=acc[0,1]+1\n",
    "    if out==1 and y_test[i]==1:\n",
    "        acc[1,1]=acc[1,1]+1\n",
    "print(acc)"
   ]
  },
  {
   "cell_type": "code",
   "execution_count": null,
   "id": "74a937ad",
   "metadata": {},
   "outputs": [],
   "source": [
    "print(acc[1,1]/sum(acc[:,1]))"
   ]
  },
  {
   "cell_type": "code",
   "execution_count": null,
   "id": "458607a3",
   "metadata": {},
   "outputs": [],
   "source": [
    "depth=np.arange(1,15)\n",
    "acc1=[]\n",
    "for j in range(1,15):\n",
    "    clf = tree.DecisionTreeClassifier(criterion=\"gini\",max_depth=j)\n",
    "    clf = clf.fit(X_train, y_train)\n",
    "    y_pred = clf.predict(X_test)\n",
    "    acc=np.zeros((2,2))\n",
    "    for i in range(len(X_test)):\n",
    "        if y_pred[i]==0 and y_test[i]==0:\n",
    "            acc[0,0]=acc[0,0]+1\n",
    "        if y_pred[i]==1 and y_test[i]==0:\n",
    "            acc[1,0]=acc[1,0]+1\n",
    "        if y_pred[i]==0 and y_test[i]==1:\n",
    "            acc[0,1]=acc[0,1]+1\n",
    "        if y_pred[i]==1 and y_test[i]==1:\n",
    "            acc[1,1]=acc[1,1]+1\n",
    "    acc1.append(acc[1,1]/sum(acc[:,1]))"
   ]
  },
  {
   "cell_type": "code",
   "execution_count": null,
   "id": "40c8e115",
   "metadata": {},
   "outputs": [],
   "source": [
    "import matplotlib.pyplot as plt\n",
    "plt.plot(depth,acc1,'ro')\n",
    "plt.ylabel('fake news ratio')\n",
    "plt.xlabel('Tree depth')"
   ]
  },
  {
   "cell_type": "code",
   "execution_count": null,
   "id": "08faab64",
   "metadata": {},
   "outputs": [],
   "source": [
    "from sklearn import svm\n",
    "clf = svm.SVC(kernel='poly',max_iter=10000)\n",
    "clf = clf.fit(X_train[:600], y_train[:600])"
   ]
  },
  {
   "cell_type": "code",
   "execution_count": null,
   "id": "8619c836",
   "metadata": {},
   "outputs": [],
   "source": [
    "y_pred = clf.predict(X_test)"
   ]
  },
  {
   "cell_type": "code",
   "execution_count": null,
   "id": "e9d90249",
   "metadata": {},
   "outputs": [],
   "source": [
    "# Az előző kézzel.\n",
    "acc=np.zeros((2,2))\n",
    "for i in range(len(X_test)):\n",
    "    out=clf.predict([X_test[i]])\n",
    "    if out==0 and y_test[i]==0:\n",
    "        acc[0,0]=acc[0,0]+1\n",
    "    if out==1 and y_test[i]==0:\n",
    "        acc[1,0]=acc[1,0]+1\n",
    "    if out==0 and y_test[i]==1:\n",
    "        acc[0,1]=acc[0,1]+1\n",
    "    if out==1 and y_test[i]==1:\n",
    "        acc[1,1]=acc[1,1]+1\n",
    "print(acc)"
   ]
  },
  {
   "cell_type": "code",
   "execution_count": null,
   "id": "c40f60c2",
   "metadata": {},
   "outputs": [],
   "source": [
    "from sklearn.naive_bayes import GaussianNB\n",
    "X_train, X_test, y_train, y_test = train_test_split(X, y, test_size=0.1, random_state=0)\n",
    "gnb = GaussianNB()\n",
    "y_pred = gnb.fit(X_train, y_train).predict(X_test)"
   ]
  },
  {
   "cell_type": "code",
   "execution_count": null,
   "id": "bfc06259",
   "metadata": {},
   "outputs": [],
   "source": [
    "acc=np.zeros((2,2))\n",
    "for i in range(len(X_test)):\n",
    "    out=clf.predict([X_test[i]])\n",
    "    if out==0 and y_test[i]==0:\n",
    "        acc[0,0]=acc[0,0]+1\n",
    "    if out==1 and y_test[i]==0:\n",
    "        acc[1,0]=acc[1,0]+1\n",
    "    if out==0 and y_test[i]==1:\n",
    "        acc[0,1]=acc[0,1]+1\n",
    "    if out==1 and y_test[i]==1:\n",
    "        acc[1,1]=acc[1,1]+1\n",
    "print(acc)"
   ]
  },
  {
   "cell_type": "code",
   "execution_count": null,
   "id": "7d020341",
   "metadata": {},
   "outputs": [],
   "source": [
    ">>> from sklearn.feature_extraction.text import TfidfVectorizer\n",
    ">>> corpus = [\n",
    "...     'This is the first document.',\n",
    "...     'This document is the second document.',\n",
    "...     'And this is the third one.',\n",
    "...     'Is this the first document?',\n",
    "... ]\n",
    ">>> vectorizer = TfidfVectorizer()\n",
    ">>> X = vectorizer.fit_transform(corpus)\n",
    ">>> print(vectorizer.get_feature_names_out())\n",
    "print(X.toarray())\n",
    ">>> print(X.shape)\n",
    "print(type(X))\n",
    "vectorizer.vocabulary_.get('is')"
   ]
  },
  {
   "cell_type": "markdown",
   "id": "42a33b3c",
   "metadata": {},
   "source": [
    "\n",
    "# Neural Networks"
   ]
  },
  {
   "cell_type": "code",
   "execution_count": null,
   "id": "3008a641",
   "metadata": {},
   "outputs": [],
   "source": [
    "from sklearn.neural_network import MLPClassifier\n",
    "from sklearn.metrics import roc_auc_score\n",
    "mlp = MLPClassifier(solver = 'lbfgs', activation = 'relu',\n",
    "                   hidden_layer_sizes = (100,50,30), \n",
    "                    max_iter = 1000)\n",
    "\n",
    "mlp.fit(X_train, y_train)"
   ]
  }
 ],
 "metadata": {
  "kernelspec": {
   "display_name": "Python 3 (ipykernel)",
   "language": "python",
   "name": "python3"
  },
  "language_info": {
   "codemirror_mode": {
    "name": "ipython",
    "version": 3
   },
   "file_extension": ".py",
   "mimetype": "text/x-python",
   "name": "python",
   "nbconvert_exporter": "python",
   "pygments_lexer": "ipython3",
   "version": "3.9.12"
  }
 },
 "nbformat": 4,
 "nbformat_minor": 5
}
